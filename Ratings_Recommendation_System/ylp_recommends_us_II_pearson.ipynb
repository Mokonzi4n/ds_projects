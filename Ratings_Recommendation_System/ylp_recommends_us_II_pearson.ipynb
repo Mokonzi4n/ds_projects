{
 "cells": [
  {
   "cell_type": "code",
   "execution_count": 1,
   "metadata": {},
   "outputs": [],
   "source": [
    "import matplotlib.pyplot as plt\n",
    "import pandas as pd\n",
    "import numpy as np\n",
    "from nltk.tokenize import word_tokenize, sent_tokenize\n",
    "from nltk.stem import WordNetLemmatizer\n",
    "import re\n",
    "from collections import Counter\n",
    "from sklearn.model_selection import train_test_split\n",
    "from sklearn.metrics import mean_squared_error\n",
    "from tqdm import tqdm_notebook as tqdm\n",
    "import time\n",
    "import seaborn as sns\n",
    "import warnings\n",
    "\n",
    "warnings.filterwarnings('ignore')"
   ]
  },
  {
   "cell_type": "markdown",
   "metadata": {},
   "source": [
    "   "
   ]
  },
  {
   "cell_type": "markdown",
   "metadata": {},
   "source": [
    "Data on reviewed restaurants in Illinois was extracted from the yelp data set, wrangled in the [ylp_recommends_us](ylp_recommends_us.ipynb) jupyter notebook and saved as `restaurants_all_info.csv`\n",
    "\n",
    "The file `restaurants_all_info.csv` contains data extracted from four different files that make up the yelp data set. It was obtained by merging these files on specific business ids that were found to be ids of eateries or restaurants in Illinois. The file is loaded, wrangled and analyzed further below."
   ]
  },
  {
   "cell_type": "markdown",
   "metadata": {},
   "source": [
    "   "
   ]
  },
  {
   "cell_type": "code",
   "execution_count": 74,
   "metadata": {},
   "outputs": [],
   "source": [
    "# Read file containing details of restaurants in IL\n",
    "restaurant_revsratscmntz = pd.read_csv('restaurants_all_info_IL.csv')"
   ]
  },
  {
   "cell_type": "code",
   "execution_count": 75,
   "metadata": {},
   "outputs": [
    {
     "name": "stdout",
     "output_type": "stream",
     "text": [
      "<class 'pandas.core.frame.DataFrame'>\n",
      "RangeIndex: 26977 entries, 0 to 26976\n",
      "Data columns (total 16 columns):\n",
      "Unnamed: 0             26977 non-null int64\n",
      "review_id              26977 non-null object\n",
      "user_id                26977 non-null object\n",
      "business_id            26977 non-null object\n",
      "user_restau_rating     26977 non-null int64\n",
      "text                   26977 non-null object\n",
      "user_name              26958 non-null object\n",
      "user_review_count      26977 non-null int64\n",
      "user_avg_stars         26977 non-null float64\n",
      "restau_name            26977 non-null object\n",
      "city                   26977 non-null object\n",
      "state                  26977 non-null object\n",
      "postal_code            26940 non-null float64\n",
      "restau_rating          26977 non-null float64\n",
      "restau_review_count    26977 non-null int64\n",
      "categories             26977 non-null object\n",
      "dtypes: float64(3), int64(4), object(9)\n",
      "memory usage: 3.3+ MB\n"
     ]
    }
   ],
   "source": [
    "restaurant_revsratscmntz.info()"
   ]
  },
  {
   "cell_type": "markdown",
   "metadata": {},
   "source": [
    "\n",
    "#### Numerical and Visual Exploratory Data Analysis\n",
    "\n",
    "Pandas methods like `.info()`, `.head()` and `.describe()` are used in numerical EDA. Matplotlib and seaborn are used in plotting different pandas `groupby` aggregations of the data for Visual EDA.\n",
    "\n",
    "\n",
    " "
   ]
  },
  {
   "cell_type": "code",
   "execution_count": 76,
   "metadata": {},
   "outputs": [
    {
     "name": "stdout",
     "output_type": "stream",
     "text": [
      "<class 'numpy.int64'>\n"
     ]
    },
    {
     "data": {
      "text/plain": [
       "array([4, 2, 5, 1, 3])"
      ]
     },
     "execution_count": 76,
     "metadata": {},
     "output_type": "execute_result"
    }
   ],
   "source": [
    "# checking to see that all rating values are between 1 & 5 and type int.\n",
    "\n",
    "print(type(restaurant_revsratscmntz.user_restau_rating.unique()[0]))\n",
    "restaurant_revsratscmntz.user_restau_rating.unique()"
   ]
  },
  {
   "cell_type": "code",
   "execution_count": 77,
   "metadata": {},
   "outputs": [],
   "source": [
    "# Drop unnamed column which is a column of indices imported with the loaded file \n",
    "restaurant_revsratscmntz.drop('Unnamed: 0', axis=1,inplace=True, errors='ignore')"
   ]
  },
  {
   "cell_type": "markdown",
   "metadata": {},
   "source": [
    "The `postal_code` column count indicates missing values as shown below. The missing codes are tied to two restaurants *`\"ROKs Tacos - Korean BBQ Tacos\"`* and *`\"Dragon Fire Pizza\"`*"
   ]
  },
  {
   "cell_type": "code",
   "execution_count": 78,
   "metadata": {},
   "outputs": [
    {
     "data": {
      "text/plain": [
       "review_id              37\n",
       "user_id                37\n",
       "business_id            37\n",
       "user_restau_rating     37\n",
       "text                   37\n",
       "user_name              37\n",
       "user_review_count      37\n",
       "user_avg_stars         37\n",
       "restau_name            37\n",
       "city                   37\n",
       "state                  37\n",
       "postal_code             0\n",
       "restau_rating          37\n",
       "restau_review_count    37\n",
       "categories             37\n",
       "dtype: int64"
      ]
     },
     "execution_count": 78,
     "metadata": {},
     "output_type": "execute_result"
    }
   ],
   "source": [
    "# Show rows where the postal_code is null\n",
    "restaurant_revsratscmntz[restaurant_revsratscmntz.postal_code.isnull()].count()\n"
   ]
  },
  {
   "cell_type": "code",
   "execution_count": 79,
   "metadata": {},
   "outputs": [
    {
     "data": {
      "text/plain": [
       "array(['\"ROKs Tacos - Korean BBQ Tacos\"', '\"Dragon Fire Pizza\"'],\n",
       "      dtype=object)"
      ]
     },
     "execution_count": 79,
     "metadata": {},
     "output_type": "execute_result"
    }
   ],
   "source": [
    "# create an array of restaurants which do not have a postal_code.\n",
    "restaus_woutpcodes = restaurant_revsratscmntz.restau_name[restaurant_revsratscmntz.postal_code.isnull()].unique()\n",
    "restaus_woutpcodes"
   ]
  },
  {
   "cell_type": "markdown",
   "metadata": {},
   "source": [
    "\n",
    "\n",
    "From the null postal_code table above, all the nulls occur for 2 restaurants in Champaign IL. We check the `postal_code` column for the city of Champaign and realize it has four postal codes and a `Nan` code. We do a count of the total number of restaurant reviews by postal code.\n",
    "\n",
    "\n",
    "\n"
   ]
  },
  {
   "cell_type": "code",
   "execution_count": 80,
   "metadata": {},
   "outputs": [
    {
     "name": "stdout",
     "output_type": "stream",
     "text": [
      "[61821. 61820. 61822. 61801.    nan]\n"
     ]
    },
    {
     "data": {
      "text/html": [
       "<div>\n",
       "<style scoped>\n",
       "    .dataframe tbody tr th:only-of-type {\n",
       "        vertical-align: middle;\n",
       "    }\n",
       "\n",
       "    .dataframe tbody tr th {\n",
       "        vertical-align: top;\n",
       "    }\n",
       "\n",
       "    .dataframe thead th {\n",
       "        text-align: right;\n",
       "    }\n",
       "</style>\n",
       "<table border=\"1\" class=\"dataframe\">\n",
       "  <thead>\n",
       "    <tr style=\"text-align: right;\">\n",
       "      <th></th>\n",
       "      <th>user_restau_rating</th>\n",
       "      <th>city</th>\n",
       "    </tr>\n",
       "    <tr>\n",
       "      <th>postal_code</th>\n",
       "      <th></th>\n",
       "      <th></th>\n",
       "    </tr>\n",
       "  </thead>\n",
       "  <tbody>\n",
       "    <tr>\n",
       "      <th>61801.0</th>\n",
       "      <td>59</td>\n",
       "      <td>59</td>\n",
       "    </tr>\n",
       "    <tr>\n",
       "      <th>61820.0</th>\n",
       "      <td>15486</td>\n",
       "      <td>15486</td>\n",
       "    </tr>\n",
       "    <tr>\n",
       "      <th>61821.0</th>\n",
       "      <td>2141</td>\n",
       "      <td>2141</td>\n",
       "    </tr>\n",
       "    <tr>\n",
       "      <th>61822.0</th>\n",
       "      <td>1959</td>\n",
       "      <td>1959</td>\n",
       "    </tr>\n",
       "  </tbody>\n",
       "</table>\n",
       "</div>"
      ],
      "text/plain": [
       "             user_restau_rating   city\n",
       "postal_code                           \n",
       "61801.0                      59     59\n",
       "61820.0                   15486  15486\n",
       "61821.0                    2141   2141\n",
       "61822.0                    1959   1959"
      ]
     },
     "execution_count": 80,
     "metadata": {},
     "output_type": "execute_result"
    }
   ],
   "source": [
    "# Checking all the postal codes for Champaign\n",
    "\n",
    "print(restaurant_revsratscmntz.postal_code[restaurant_revsratscmntz.city=='Champaign'].unique())\n",
    "restaurant_revsratscmntz[restaurant_revsratscmntz.city == 'Champaign'].groupby('postal_code')['user_restau_rating','city'].count()"
   ]
  },
  {
   "cell_type": "markdown",
   "metadata": {},
   "source": [
    "\n",
    "Checking with Google shows that the `postal_code` for the two restaurants in Champaign IL is `61801` with which we fill the missing codes in the table.\n"
   ]
  },
  {
   "cell_type": "code",
   "execution_count": 81,
   "metadata": {},
   "outputs": [],
   "source": [
    "# where there is a null postal code for the city of Champaign fill it with 61801\n",
    "\n",
    "restaurant_revsratscmntz.postal_code[(restaurant_revsratscmntz.postal_code.isnull())&(restaurant_revsratscmntz.city=='Champaign')] = 61801\n"
   ]
  },
  {
   "cell_type": "markdown",
   "metadata": {},
   "source": [
    "Checking the postal_codes again reveals no `Nan` codes and increases the count of the number of reviews per postal code from `59` to `96`"
   ]
  },
  {
   "cell_type": "code",
   "execution_count": 82,
   "metadata": {},
   "outputs": [
    {
     "name": "stdout",
     "output_type": "stream",
     "text": [
      "[61821. 61820. 61822. 61801.]\n"
     ]
    },
    {
     "data": {
      "text/html": [
       "<div>\n",
       "<style scoped>\n",
       "    .dataframe tbody tr th:only-of-type {\n",
       "        vertical-align: middle;\n",
       "    }\n",
       "\n",
       "    .dataframe tbody tr th {\n",
       "        vertical-align: top;\n",
       "    }\n",
       "\n",
       "    .dataframe thead th {\n",
       "        text-align: right;\n",
       "    }\n",
       "</style>\n",
       "<table border=\"1\" class=\"dataframe\">\n",
       "  <thead>\n",
       "    <tr style=\"text-align: right;\">\n",
       "      <th></th>\n",
       "      <th>user_restau_rating</th>\n",
       "      <th>city</th>\n",
       "    </tr>\n",
       "    <tr>\n",
       "      <th>postal_code</th>\n",
       "      <th></th>\n",
       "      <th></th>\n",
       "    </tr>\n",
       "  </thead>\n",
       "  <tbody>\n",
       "    <tr>\n",
       "      <th>61801.0</th>\n",
       "      <td>96</td>\n",
       "      <td>96</td>\n",
       "    </tr>\n",
       "    <tr>\n",
       "      <th>61820.0</th>\n",
       "      <td>15486</td>\n",
       "      <td>15486</td>\n",
       "    </tr>\n",
       "    <tr>\n",
       "      <th>61821.0</th>\n",
       "      <td>2141</td>\n",
       "      <td>2141</td>\n",
       "    </tr>\n",
       "    <tr>\n",
       "      <th>61822.0</th>\n",
       "      <td>1959</td>\n",
       "      <td>1959</td>\n",
       "    </tr>\n",
       "  </tbody>\n",
       "</table>\n",
       "</div>"
      ],
      "text/plain": [
       "             user_restau_rating   city\n",
       "postal_code                           \n",
       "61801.0                      96     96\n",
       "61820.0                   15486  15486\n",
       "61821.0                    2141   2141\n",
       "61822.0                    1959   1959"
      ]
     },
     "execution_count": 82,
     "metadata": {},
     "output_type": "execute_result"
    }
   ],
   "source": [
    "# Verifying the postal code count. We see an addition of 37 61801 postal codes.\n",
    "\n",
    "print(restaurant_revsratscmntz.postal_code[restaurant_revsratscmntz.city=='Champaign'].unique())\n",
    "restaurant_revsratscmntz[restaurant_revsratscmntz.city == 'Champaign'].groupby('postal_code')['user_restau_rating','city'].count()"
   ]
  },
  {
   "cell_type": "code",
   "execution_count": 83,
   "metadata": {},
   "outputs": [
    {
     "name": "stdout",
     "output_type": "stream",
     "text": [
      "<class 'pandas.core.frame.DataFrame'>\n",
      "RangeIndex: 26977 entries, 0 to 26976\n",
      "Data columns (total 15 columns):\n",
      "review_id              26977 non-null object\n",
      "user_id                26977 non-null object\n",
      "business_id            26977 non-null object\n",
      "user_restau_rating     26977 non-null int64\n",
      "text                   26977 non-null object\n",
      "user_name              26958 non-null object\n",
      "user_review_count      26977 non-null int64\n",
      "user_avg_stars         26977 non-null float64\n",
      "restau_name            26977 non-null object\n",
      "city                   26977 non-null object\n",
      "state                  26977 non-null object\n",
      "postal_code            26977 non-null float64\n",
      "restau_rating          26977 non-null float64\n",
      "restau_review_count    26977 non-null int64\n",
      "categories             26977 non-null object\n",
      "dtypes: float64(3), int64(3), object(9)\n",
      "memory usage: 3.1+ MB\n"
     ]
    }
   ],
   "source": [
    "# We see that postal code has the same number of entries as city.\n",
    "restaurant_revsratscmntz.info()"
   ]
  },
  {
   "cell_type": "code",
   "execution_count": 84,
   "metadata": {},
   "outputs": [
    {
     "name": "stdout",
     "output_type": "stream",
     "text": [
      "<class 'pandas.core.frame.DataFrame'>\n",
      "Int64Index: 26977 entries, 0 to 26976\n",
      "Data columns (total 15 columns):\n",
      "review_id              26977 non-null object\n",
      "user_id                26977 non-null object\n",
      "business_id            26977 non-null object\n",
      "user_restau_rating     26977 non-null int64\n",
      "text                   26977 non-null object\n",
      "user_name              26958 non-null object\n",
      "user_review_count      26977 non-null int64\n",
      "user_avg_stars         26977 non-null float64\n",
      "restau_name            26977 non-null object\n",
      "city                   26977 non-null object\n",
      "state                  26977 non-null object\n",
      "postal_code            26977 non-null float64\n",
      "restau_rating          26977 non-null float64\n",
      "restau_review_count    26977 non-null int64\n",
      "categories             26977 non-null object\n",
      "dtypes: float64(3), int64(3), object(9)\n",
      "memory usage: 3.3+ MB\n"
     ]
    }
   ],
   "source": [
    "# Checking for any duplicates\n",
    "restaurant_revsratscmntz = restaurant_revsratscmntz.drop_duplicates()\n",
    "restaurant_revsratscmntz.info()"
   ]
  },
  {
   "cell_type": "code",
   "execution_count": 85,
   "metadata": {},
   "outputs": [],
   "source": [
    "# choosing relevant columns.\n",
    "\n",
    "restaurants_revsratscmntz = restaurant_revsratscmntz[['user_id', 'business_id',\n",
    "       'user_restau_rating', 'text', 'user_name', 'user_review_count',\n",
    "       'user_avg_stars', 'restau_name', 'city','postal_code', 'state', 'restau_rating',\n",
    "       'restau_review_count', 'categories']]"
   ]
  },
  {
   "cell_type": "markdown",
   "metadata": {},
   "source": [
    "#### Ratings Popularity:\n",
    "\n"
   ]
  },
  {
   "cell_type": "code",
   "execution_count": 86,
   "metadata": {},
   "outputs": [],
   "source": [
    "sns.set_style('darkgrid',{'patch.edgecolor':'None'})"
   ]
  },
  {
   "cell_type": "code",
   "execution_count": 87,
   "metadata": {},
   "outputs": [
    {
     "data": {
      "image/png": "[encoded data removed]",
      "text/plain": [
       "<Figure size 432x288 with 1 Axes>"
      ]
     },
     "metadata": {},
     "output_type": "display_data"
    }
   ],
   "source": [
    "restaurant_revsratscmntz.groupby('user_restau_rating')['business_id'].count().plot(kind='bar')\n",
    "plt.title('Popularity of Rating Categories')\n",
    "plt.xlabel('Rating Categories')\n",
    "plt.show()"
   ]
  },
  {
   "cell_type": "code",
   "execution_count": 88,
   "metadata": {},
   "outputs": [
    {
     "data": {
      "image/png": "[encoded data removed]",
      "text/plain": [
       "<Figure size 432x288 with 1 Axes>"
      ]
     },
     "metadata": {},
     "output_type": "display_data"
    },
    {
     "name": "stdout",
     "output_type": "stream",
     "text": [
      "4.0\n"
     ]
    },
    {
     "data": {
      "text/plain": [
       "count    26977.000000\n",
       "mean         3.612781\n",
       "std          1.368265\n",
       "min          1.000000\n",
       "25%          3.000000\n",
       "50%          4.000000\n",
       "75%          5.000000\n",
       "max          5.000000\n",
       "Name: user_restau_rating, dtype: float64"
      ]
     },
     "execution_count": 88,
     "metadata": {},
     "output_type": "execute_result"
    }
   ],
   "source": [
    "\n",
    "plt.hist(restaurant_revsratscmntz.user_restau_rating, bins=5)\n",
    "plt.title(f'Distribution of ratings across all restaurants \\nwith mean {np.round(restaurant_revsratscmntz.user_restau_rating.mean(),2)} and median {restaurant_revsratscmntz.user_restau_rating.median()}')\n",
    "plt.xlabel('Ratings')\n",
    "plt.ylabel('Number of Ratings')\n",
    "plt.show()\n",
    "\n",
    "print(restaurant_revsratscmntz.user_restau_rating.median())\n",
    "restaurant_revsratscmntz.user_restau_rating.describe()"
   ]
  },
  {
   "cell_type": "markdown",
   "metadata": {},
   "source": [
    "From the ratings and distribution plots below, it indicates that the most popular rating is `5 stars` while the least popular is `2 stars`. This indicates a potential of reviewers to give a `1 star` instead of a `2 star` rating when they thought a restaurant was particularly subpar."
   ]
  },
  {
   "cell_type": "code",
   "execution_count": 89,
   "metadata": {},
   "outputs": [
    {
     "data": {
      "image/png": "[encoded data removed]",
      "text/plain": [
       "<Figure size 432x288 with 1 Axes>"
      ]
     },
     "metadata": {},
     "output_type": "display_data"
    },
    {
     "data": {
      "text/html": [
       "<div>\n",
       "<style scoped>\n",
       "    .dataframe tbody tr th:only-of-type {\n",
       "        vertical-align: middle;\n",
       "    }\n",
       "\n",
       "    .dataframe tbody tr th {\n",
       "        vertical-align: top;\n",
       "    }\n",
       "\n",
       "    .dataframe thead th {\n",
       "        text-align: right;\n",
       "    }\n",
       "</style>\n",
       "<table border=\"1\" class=\"dataframe\">\n",
       "  <thead>\n",
       "    <tr style=\"text-align: right;\">\n",
       "      <th>user_restau_rating</th>\n",
       "      <th>5</th>\n",
       "      <th>4</th>\n",
       "      <th>3</th>\n",
       "      <th>2</th>\n",
       "      <th>1</th>\n",
       "    </tr>\n",
       "    <tr>\n",
       "      <th>city</th>\n",
       "      <th></th>\n",
       "      <th></th>\n",
       "      <th></th>\n",
       "      <th></th>\n",
       "      <th></th>\n",
       "    </tr>\n",
       "  </thead>\n",
       "  <tbody>\n",
       "    <tr>\n",
       "      <th>Champaign</th>\n",
       "      <td>6580.0</td>\n",
       "      <td>5358.0</td>\n",
       "      <td>3112.0</td>\n",
       "      <td>2209.0</td>\n",
       "      <td>2423.0</td>\n",
       "    </tr>\n",
       "    <tr>\n",
       "      <th>Fithian</th>\n",
       "      <td>2.0</td>\n",
       "      <td>2.0</td>\n",
       "      <td>NaN</td>\n",
       "      <td>NaN</td>\n",
       "      <td>NaN</td>\n",
       "    </tr>\n",
       "    <tr>\n",
       "      <th>Gifford</th>\n",
       "      <td>1.0</td>\n",
       "      <td>6.0</td>\n",
       "      <td>1.0</td>\n",
       "      <td>1.0</td>\n",
       "      <td>2.0</td>\n",
       "    </tr>\n",
       "    <tr>\n",
       "      <th>Homer</th>\n",
       "      <td>14.0</td>\n",
       "      <td>4.0</td>\n",
       "      <td>1.0</td>\n",
       "      <td>NaN</td>\n",
       "      <td>NaN</td>\n",
       "    </tr>\n",
       "    <tr>\n",
       "      <th>Mahomet</th>\n",
       "      <td>127.0</td>\n",
       "      <td>60.0</td>\n",
       "      <td>41.0</td>\n",
       "      <td>37.0</td>\n",
       "      <td>37.0</td>\n",
       "    </tr>\n",
       "    <tr>\n",
       "      <th>Mansfield</th>\n",
       "      <td>5.0</td>\n",
       "      <td>2.0</td>\n",
       "      <td>NaN</td>\n",
       "      <td>NaN</td>\n",
       "      <td>NaN</td>\n",
       "    </tr>\n",
       "    <tr>\n",
       "      <th>Monticello</th>\n",
       "      <td>74.0</td>\n",
       "      <td>51.0</td>\n",
       "      <td>27.0</td>\n",
       "      <td>17.0</td>\n",
       "      <td>20.0</td>\n",
       "    </tr>\n",
       "    <tr>\n",
       "      <th>Oakwood</th>\n",
       "      <td>4.0</td>\n",
       "      <td>2.0</td>\n",
       "      <td>1.0</td>\n",
       "      <td>NaN</td>\n",
       "      <td>4.0</td>\n",
       "    </tr>\n",
       "    <tr>\n",
       "      <th>Ogden</th>\n",
       "      <td>2.0</td>\n",
       "      <td>3.0</td>\n",
       "      <td>1.0</td>\n",
       "      <td>4.0</td>\n",
       "      <td>4.0</td>\n",
       "    </tr>\n",
       "    <tr>\n",
       "      <th>Philo</th>\n",
       "      <td>3.0</td>\n",
       "      <td>5.0</td>\n",
       "      <td>NaN</td>\n",
       "      <td>4.0</td>\n",
       "      <td>2.0</td>\n",
       "    </tr>\n",
       "    <tr>\n",
       "      <th>Rantoul</th>\n",
       "      <td>88.0</td>\n",
       "      <td>53.0</td>\n",
       "      <td>31.0</td>\n",
       "      <td>22.0</td>\n",
       "      <td>61.0</td>\n",
       "    </tr>\n",
       "    <tr>\n",
       "      <th>Saint Joseph</th>\n",
       "      <td>22.0</td>\n",
       "      <td>20.0</td>\n",
       "      <td>6.0</td>\n",
       "      <td>7.0</td>\n",
       "      <td>10.0</td>\n",
       "    </tr>\n",
       "    <tr>\n",
       "      <th>Savoy</th>\n",
       "      <td>136.0</td>\n",
       "      <td>121.0</td>\n",
       "      <td>60.0</td>\n",
       "      <td>57.0</td>\n",
       "      <td>67.0</td>\n",
       "    </tr>\n",
       "    <tr>\n",
       "      <th>Sidney</th>\n",
       "      <td>14.0</td>\n",
       "      <td>2.0</td>\n",
       "      <td>1.0</td>\n",
       "      <td>1.0</td>\n",
       "      <td>1.0</td>\n",
       "    </tr>\n",
       "    <tr>\n",
       "      <th>St Joseph</th>\n",
       "      <td>22.0</td>\n",
       "      <td>7.0</td>\n",
       "      <td>2.0</td>\n",
       "      <td>2.0</td>\n",
       "      <td>NaN</td>\n",
       "    </tr>\n",
       "    <tr>\n",
       "      <th>Tolono</th>\n",
       "      <td>1.0</td>\n",
       "      <td>1.0</td>\n",
       "      <td>2.0</td>\n",
       "      <td>2.0</td>\n",
       "      <td>2.0</td>\n",
       "    </tr>\n",
       "    <tr>\n",
       "      <th>Tuscola</th>\n",
       "      <td>84.0</td>\n",
       "      <td>57.0</td>\n",
       "      <td>14.0</td>\n",
       "      <td>16.0</td>\n",
       "      <td>36.0</td>\n",
       "    </tr>\n",
       "    <tr>\n",
       "      <th>Urbana</th>\n",
       "      <td>2134.0</td>\n",
       "      <td>1622.0</td>\n",
       "      <td>760.0</td>\n",
       "      <td>586.0</td>\n",
       "      <td>588.0</td>\n",
       "    </tr>\n",
       "    <tr>\n",
       "      <th>Villa Grove</th>\n",
       "      <td>2.0</td>\n",
       "      <td>4.0</td>\n",
       "      <td>NaN</td>\n",
       "      <td>NaN</td>\n",
       "      <td>NaN</td>\n",
       "    </tr>\n",
       "  </tbody>\n",
       "</table>\n",
       "</div>"
      ],
      "text/plain": [
       "user_restau_rating       5       4       3       2       1\n",
       "city                                                      \n",
       "Champaign           6580.0  5358.0  3112.0  2209.0  2423.0\n",
       "Fithian                2.0     2.0     NaN     NaN     NaN\n",
       "Gifford                1.0     6.0     1.0     1.0     2.0\n",
       "Homer                 14.0     4.0     1.0     NaN     NaN\n",
       "Mahomet              127.0    60.0    41.0    37.0    37.0\n",
       "Mansfield              5.0     2.0     NaN     NaN     NaN\n",
       "Monticello            74.0    51.0    27.0    17.0    20.0\n",
       "Oakwood                4.0     2.0     1.0     NaN     4.0\n",
       "Ogden                  2.0     3.0     1.0     4.0     4.0\n",
       "Philo                  3.0     5.0     NaN     4.0     2.0\n",
       "Rantoul               88.0    53.0    31.0    22.0    61.0\n",
       "Saint Joseph          22.0    20.0     6.0     7.0    10.0\n",
       "Savoy                136.0   121.0    60.0    57.0    67.0\n",
       "Sidney                14.0     2.0     1.0     1.0     1.0\n",
       "St Joseph             22.0     7.0     2.0     2.0     NaN\n",
       "Tolono                 1.0     1.0     2.0     2.0     2.0\n",
       "Tuscola               84.0    57.0    14.0    16.0    36.0\n",
       "Urbana              2134.0  1622.0   760.0   586.0   588.0\n",
       "Villa Grove            2.0     4.0     NaN     NaN     NaN"
      ]
     },
     "execution_count": 89,
     "metadata": {},
     "output_type": "execute_result"
    }
   ],
   "source": [
    "ratings_by_city = restaurant_revsratscmntz.groupby(['city','user_restau_rating'])['user_restau_rating'].count().unstack('user_restau_rating').sort_values('user_restau_rating', axis=1, ascending=False)\n",
    "ratings_by_city.plot(title = 'Reviews by City',kind='bar',stacked=True)\n",
    "plt.ylabel('Total Number of reviews')\n",
    "plt.show()\n",
    "ratings_by_city"
   ]
  },
  {
   "cell_type": "markdown",
   "metadata": {},
   "source": [
    "   "
   ]
  },
  {
   "cell_type": "markdown",
   "metadata": {},
   "source": [
    "The cities of Champaign and Urbana have the highest number of reviews. This might imply these cities have the highest number of restaurants or the restaurants with the highest amount of traffic are located within their zipcodes. The plot below, indicates the Champaign alone has more restaurants than all the other cities combined. Followed by Urbana."
   ]
  },
  {
   "cell_type": "markdown",
   "metadata": {},
   "source": [
    "   "
   ]
  },
  {
   "cell_type": "code",
   "execution_count": 90,
   "metadata": {},
   "outputs": [
    {
     "data": {
      "image/png": "[encoded data removed]",
      "text/plain": [
       "<Figure size 432x288 with 1 Axes>"
      ]
     },
     "metadata": {},
     "output_type": "display_data"
    },
    {
     "data": {
      "text/plain": [
       "city\n",
       "Champaign       408\n",
       "Urbana          148\n",
       "Rantoul          28\n",
       "Mahomet          25\n",
       "Savoy            22\n",
       "Monticello       19\n",
       "Tuscola          16\n",
       "Saint Joseph      8\n",
       "Homer             3\n",
       "Oakwood           3\n",
       "St Joseph         2\n",
       "Gifford           2\n",
       "Ogden             2\n",
       "Mansfield         2\n",
       "Fithian           1\n",
       "Villa Grove       1\n",
       "Sidney            1\n",
       "Tolono            1\n",
       "Philo             1\n",
       "Name: restau_name, dtype: int64"
      ]
     },
     "execution_count": 90,
     "metadata": {},
     "output_type": "execute_result"
    }
   ],
   "source": [
    "# Number of reviews by city\n",
    "restaus_by_city = restaurant_revsratscmntz.groupby(['city'])['restau_name'].nunique().sort_values(axis=0,ascending=False)\n",
    "restaus_by_city.plot(title = 'Number of Restaurants by City',kind='bar',stacked=True)\n",
    "plt.ylabel('Total Number of restaurants')\n",
    "plt.show()\n",
    "restaus_by_city"
   ]
  },
  {
   "cell_type": "code",
   "execution_count": 91,
   "metadata": {},
   "outputs": [
    {
     "data": {
      "text/plain": [
       "restau_name                                city     \n",
       "\"Black Dog Smoke & Ale House\"              Urbana       745\n",
       "\"DESTIHL Restaurant & Brew Works\"          Champaign    490\n",
       "\"Maize Mexican Grill\"                      Champaign    471\n",
       "\"Papa Del's Pizza\"                         Champaign    373\n",
       "\"Golden Harbor Authentic Chinese Cuisine\"  Champaign    363\n",
       "\"Courier Cafe\"                             Urbana       322\n",
       "\"Sakanaya Restaurant\"                      Champaign    315\n",
       "\"Radio Maria\"                              Champaign    292\n",
       "\"Seven Saints\"                             Champaign    288\n",
       "\"Big Grove Tavern\"                         Champaign    287\n",
       "Name: user_restau_rating, dtype: int64"
      ]
     },
     "execution_count": 91,
     "metadata": {},
     "output_type": "execute_result"
    }
   ],
   "source": [
    "# Determine Restaurant with highest number of reviews\n",
    "\n",
    "rest_revs=restaurants_revsratscmntz.groupby(['restau_name','city'])['user_restau_rating'].count().sort_values(axis=0,ascending=False)\n",
    "rest_revs.head(10)"
   ]
  },
  {
   "cell_type": "code",
   "execution_count": 92,
   "metadata": {},
   "outputs": [
    {
     "data": {
      "image/png": "[encoded data removed]",
      "text/plain": [
       "<Figure size 432x288 with 1 Axes>"
      ]
     },
     "metadata": {},
     "output_type": "display_data"
    },
    {
     "data": {
      "image/png": "[encoded data removed]",
      "text/plain": [
       "<Figure size 432x288 with 1 Axes>"
      ]
     },
     "metadata": {},
     "output_type": "display_data"
    },
    {
     "name": "stdout",
     "output_type": "stream",
     "text": [
      "user_name\n",
      "Nelson      139\n",
      "Lisa        130\n",
      "Mark        117\n",
      "Ashley      100\n",
      "Teej         94\n",
      "Daniella     87\n",
      "A            87\n",
      "Alex         83\n",
      "Jamie        82\n",
      "Kent K.      79\n",
      "Jay          77\n",
      "Tim          75\n",
      "Anne         69\n",
      "Sarah        69\n",
      "Melissa      68\n",
      "Jessica      65\n",
      "Natalie      62\n",
      "Yum          61\n",
      "Sherry       58\n",
      "Seth         58\n",
      "Name: user_restau_rating, dtype: int64\n",
      "\n",
      "The median of the number of reviews per user is 1.0\n"
     ]
    },
    {
     "data": {
      "text/plain": [
       "count    9496.000000\n",
       "mean        2.838880\n",
       "std         5.840909\n",
       "min         1.000000\n",
       "25%         1.000000\n",
       "50%         1.000000\n",
       "75%         2.000000\n",
       "max       139.000000\n",
       "Name: user_restau_rating, dtype: float64"
      ]
     },
     "execution_count": 92,
     "metadata": {},
     "output_type": "execute_result"
    }
   ],
   "source": [
    "# Number of reviews by user\n",
    "\n",
    "num_rating=restaurants_revsratscmntz.groupby(['user_id', 'user_name'])['user_restau_rating'].count().sort_values(axis=0,ascending=False)\n",
    "\n",
    "\n",
    "\n",
    "def ecdf(data):\n",
    "    \"\"\"Compute Empirical Cumulative Distribution Function (ECDF) for a 1D array of measurements.\"\"\"\n",
    "    # Number of data points\n",
    "    n = len(data)\n",
    "    \n",
    "    # Data for the x-axis of the ecdf.\n",
    "    x = np.sort(data)\n",
    "    \n",
    "    # Data for the y-axis of the ecdf\n",
    "    y = np.arange(1, n+1)/n\n",
    "    \n",
    "    return x , y\n",
    "\n",
    "# ecdf of number of ratings per cumtomer.\n",
    "x,y = ecdf(num_rating)\n",
    "num_bins = int(np.sqrt(len(num_rating))) # formular for determining bin size.\n",
    "plt.plot(x,y,marker='.',linestyle='none')\n",
    "plt.title('ECDF of reviews per User')\n",
    "plt.xlabel('Number of Reviews per User')\n",
    "plt.ylabel('Percentage of Users')\n",
    "plt.axhline(0.95, color = 'r', alpha = 0.5)\n",
    "plt.axvline(10, color = 'r', alpha = 0.5)\n",
    "plt.show()\n",
    "\n",
    "plt.hist(num_rating, bins =25)\n",
    "plt.title('Distribution of Reviews per User')\n",
    "plt.ylabel('Number of reviews')\n",
    "\n",
    "plt.show()\n",
    "\n",
    "num_rating.index= num_rating.index.droplevel()\n",
    "print(num_rating.head(20))\n",
    "print('\\nThe median of the number of reviews per user is',num_rating.median())\n",
    "num_rating.describe()"
   ]
  },
  {
   "cell_type": "markdown",
   "metadata": {},
   "source": [
    "#### Weighted Rating"
   ]
  },
  {
   "cell_type": "markdown",
   "metadata": {},
   "source": [
    "In order not to recommend a 5 star rated restaurant reviewed by one person over a 5 star restaurant rated by say 100 people, we use a weighted rating (score) which is not only based on the rating of the restaurant (restau_rating) but also the popularity of the restaurant (restau_review_count). which will be given the following IMDB formular:\n",
    "\n",
    " Weighted Rating: $$score = (\\frac{v}{v+m} R)+ (\\frac{m}{v+m}C)$$\n",
    " \n",
    " \n",
    " Where:\n",
    "- v is the number of restaurant reviews;\n",
    "- m is the minimum number of reviews required to be recommended;\n",
    "- R is the average rating of the restaurant\n",
    "- C is the mean rating across the whole report\n"
   ]
  },
  {
   "cell_type": "code",
   "execution_count": 93,
   "metadata": {},
   "outputs": [
    {
     "data": {
      "text/plain": [
       "3.0"
      ]
     },
     "execution_count": 93,
     "metadata": {},
     "output_type": "execute_result"
    }
   ],
   "source": [
    "# Considered a zero quantile to have restaurants with the fewest number of reviews\n",
    "m = restaurants_revsratscmntz.restau_review_count.quantile(0.0)\n",
    "m"
   ]
  },
  {
   "cell_type": "code",
   "execution_count": 94,
   "metadata": {},
   "outputs": [
    {
     "data": {
      "text/plain": [
       "3.6127812581087593"
      ]
     },
     "execution_count": 94,
     "metadata": {},
     "output_type": "execute_result"
    }
   ],
   "source": [
    "# The average rating across all restaurants.\n",
    "C = restaurants_revsratscmntz.user_restau_rating.mean()\n",
    "C"
   ]
  },
  {
   "cell_type": "code",
   "execution_count": 125,
   "metadata": {},
   "outputs": [],
   "source": [
    "\n",
    "def weighted_rating(x, m=m, C=C):\n",
    "    '''Function calculates the weighted rating based on the number of reviews a restaurant has and its average rating'''\n",
    "    v = x.restau_review_count\n",
    "    R = x.restau_rating \n",
    "    return (v/(v+m) * R) + (m/(m+v) * C)# Calculation based on the IMDB formula\n",
    "\n"
   ]
  },
  {
   "cell_type": "code",
   "execution_count": 126,
   "metadata": {},
   "outputs": [],
   "source": [
    "# Adding a column with the weighted rating to the data set under a new column name 'score'.\n",
    "restaurants_revsratscmntz['score'] = restaurants_revsratscmntz.apply(weighted_rating,axis=1)"
   ]
  },
  {
   "cell_type": "code",
   "execution_count": 127,
   "metadata": {},
   "outputs": [
    {
     "name": "stdout",
     "output_type": "stream",
     "text": [
      "\n",
      "Total number of reviews on 763 restaurants or eateries across IL is 26977 provided by 9512 reviewers\n",
      "\n"
     ]
    },
    {
     "data": {
      "text/html": [
       "<div>\n",
       "<style scoped>\n",
       "    .dataframe tbody tr th:only-of-type {\n",
       "        vertical-align: middle;\n",
       "    }\n",
       "\n",
       "    .dataframe tbody tr th {\n",
       "        vertical-align: top;\n",
       "    }\n",
       "\n",
       "    .dataframe thead th {\n",
       "        text-align: right;\n",
       "    }\n",
       "</style>\n",
       "<table border=\"1\" class=\"dataframe\">\n",
       "  <thead>\n",
       "    <tr style=\"text-align: right;\">\n",
       "      <th></th>\n",
       "      <th>restau_review_count</th>\n",
       "      <th>score</th>\n",
       "    </tr>\n",
       "    <tr>\n",
       "      <th>restau_name</th>\n",
       "      <th></th>\n",
       "      <th></th>\n",
       "    </tr>\n",
       "  </thead>\n",
       "  <tbody>\n",
       "    <tr>\n",
       "      <th>\"El Oasis\"</th>\n",
       "      <td>77.0</td>\n",
       "      <td>4.947979</td>\n",
       "    </tr>\n",
       "    <tr>\n",
       "      <th>\"Old Time Meat &amp; Deli Shoppe\"</th>\n",
       "      <td>45.0</td>\n",
       "      <td>4.913299</td>\n",
       "    </tr>\n",
       "    <tr>\n",
       "      <th>\"Caribbean Grill Restaurant\"</th>\n",
       "      <td>41.0</td>\n",
       "      <td>4.905417</td>\n",
       "    </tr>\n",
       "    <tr>\n",
       "      <th>\"Fernando's Food\"</th>\n",
       "      <td>29.0</td>\n",
       "      <td>4.869948</td>\n",
       "    </tr>\n",
       "    <tr>\n",
       "      <th>\"Krannert Center for the Performing Arts\"</th>\n",
       "      <td>27.0</td>\n",
       "      <td>4.861278</td>\n",
       "    </tr>\n",
       "    <tr>\n",
       "      <th>\"Prairie Fruits Farm &amp; Creamery\"</th>\n",
       "      <td>16.0</td>\n",
       "      <td>4.780965</td>\n",
       "    </tr>\n",
       "    <tr>\n",
       "      <th>\"Fresh International Market\"</th>\n",
       "      <td>16.0</td>\n",
       "      <td>4.780965</td>\n",
       "    </tr>\n",
       "    <tr>\n",
       "      <th>\"Salad Meister\"</th>\n",
       "      <td>13.0</td>\n",
       "      <td>4.739896</td>\n",
       "    </tr>\n",
       "    <tr>\n",
       "      <th>\"Wines At the Pines\"</th>\n",
       "      <td>12.0</td>\n",
       "      <td>4.722556</td>\n",
       "    </tr>\n",
       "    <tr>\n",
       "      <th>\"Haymakers\"</th>\n",
       "      <td>10.0</td>\n",
       "      <td>4.679873</td>\n",
       "    </tr>\n",
       "    <tr>\n",
       "      <th>\"Natural Gourmet\"</th>\n",
       "      <td>8.0</td>\n",
       "      <td>4.621668</td>\n",
       "    </tr>\n",
       "    <tr>\n",
       "      <th>\"Breaking Taco\"</th>\n",
       "      <td>6.0</td>\n",
       "      <td>4.537594</td>\n",
       "    </tr>\n",
       "    <tr>\n",
       "      <th>\"Bent Bean\"</th>\n",
       "      <td>6.0</td>\n",
       "      <td>4.537594</td>\n",
       "    </tr>\n",
       "    <tr>\n",
       "      <th>\"Maize Mexican Grill\"</th>\n",
       "      <td>470.0</td>\n",
       "      <td>4.494373</td>\n",
       "    </tr>\n",
       "    <tr>\n",
       "      <th>\"Golden Harbor Authentic Chinese Cuisine\"</th>\n",
       "      <td>362.0</td>\n",
       "      <td>4.492708</td>\n",
       "    </tr>\n",
       "    <tr>\n",
       "      <th>\"Sakanaya Restaurant\"</th>\n",
       "      <td>314.0</td>\n",
       "      <td>4.491604</td>\n",
       "    </tr>\n",
       "    <tr>\n",
       "      <th>\"Huaraches Moroleon\"</th>\n",
       "      <td>159.0</td>\n",
       "      <td>4.483570</td>\n",
       "    </tr>\n",
       "    <tr>\n",
       "      <th>\"Homer Soda Company\"</th>\n",
       "      <td>5.0</td>\n",
       "      <td>4.479793</td>\n",
       "    </tr>\n",
       "    <tr>\n",
       "      <th>\"Cakes By Lori\"</th>\n",
       "      <td>5.0</td>\n",
       "      <td>4.479793</td>\n",
       "    </tr>\n",
       "    <tr>\n",
       "      <th>\"Pickwick Coffee Roasting\"</th>\n",
       "      <td>5.0</td>\n",
       "      <td>4.479793</td>\n",
       "    </tr>\n",
       "  </tbody>\n",
       "</table>\n",
       "</div>"
      ],
      "text/plain": [
       "                                           restau_review_count     score\n",
       "restau_name                                                             \n",
       "\"El Oasis\"                                                77.0  4.947979\n",
       "\"Old Time Meat & Deli Shoppe\"                             45.0  4.913299\n",
       "\"Caribbean Grill Restaurant\"                              41.0  4.905417\n",
       "\"Fernando's Food\"                                         29.0  4.869948\n",
       "\"Krannert Center for the Performing Arts\"                 27.0  4.861278\n",
       "\"Prairie Fruits Farm & Creamery\"                          16.0  4.780965\n",
       "\"Fresh International Market\"                              16.0  4.780965\n",
       "\"Salad Meister\"                                           13.0  4.739896\n",
       "\"Wines At the Pines\"                                      12.0  4.722556\n",
       "\"Haymakers\"                                               10.0  4.679873\n",
       "\"Natural Gourmet\"                                          8.0  4.621668\n",
       "\"Breaking Taco\"                                            6.0  4.537594\n",
       "\"Bent Bean\"                                                6.0  4.537594\n",
       "\"Maize Mexican Grill\"                                    470.0  4.494373\n",
       "\"Golden Harbor Authentic Chinese Cuisine\"                362.0  4.492708\n",
       "\"Sakanaya Restaurant\"                                    314.0  4.491604\n",
       "\"Huaraches Moroleon\"                                     159.0  4.483570\n",
       "\"Homer Soda Company\"                                       5.0  4.479793\n",
       "\"Cakes By Lori\"                                            5.0  4.479793\n",
       "\"Pickwick Coffee Roasting\"                                 5.0  4.479793"
      ]
     },
     "execution_count": 127,
     "metadata": {},
     "output_type": "execute_result"
    }
   ],
   "source": [
    "\n",
    "print('\\nTotal number of reviews on',len(restaurants_revsratscmntz.business_id.unique()),'restaurants or eateries across IL is',\\\n",
    "      len(restaurants_revsratscmntz),'provided by',\\\n",
    "      len(restaurants_revsratscmntz.user_id.unique()),'reviewers\\n')\n",
    "\n",
    "restaurants_revsratscmntz.pivot_table(['restau_review_count','score'], index='restau_name').sort_values(by='score',axis=0, ascending=False).head(20)"
   ]
  },
  {
   "cell_type": "code",
   "execution_count": 98,
   "metadata": {},
   "outputs": [
    {
     "data": {
      "text/plain": [
       "0"
      ]
     },
     "execution_count": 98,
     "metadata": {},
     "output_type": "execute_result"
    }
   ],
   "source": [
    "# Dropping rows with all null values\n",
    "restaurants_revsratscmntz.dropna(how='all',inplace=True)\n",
    "restaurants_revsratscmntz.user_avg_stars.isnull().sum()"
   ]
  },
  {
   "cell_type": "code",
   "execution_count": 130,
   "metadata": {},
   "outputs": [
    {
     "name": "stdout",
     "output_type": "stream",
     "text": [
      "The shape of the ratings matrix is: (763, 9512)\n"
     ]
    },
    {
     "data": {
      "text/html": [
       "<div>\n",
       "<style scoped>\n",
       "    .dataframe tbody tr th:only-of-type {\n",
       "        vertical-align: middle;\n",
       "    }\n",
       "\n",
       "    .dataframe tbody tr th {\n",
       "        vertical-align: top;\n",
       "    }\n",
       "\n",
       "    .dataframe thead th {\n",
       "        text-align: right;\n",
       "    }\n",
       "</style>\n",
       "<table border=\"1\" class=\"dataframe\">\n",
       "  <thead>\n",
       "    <tr style=\"text-align: right;\">\n",
       "      <th>user_id</th>\n",
       "      <th>-06IbFmaohdrg7kQKc3A4A</th>\n",
       "      <th>-0e6xyw_4zyg-2YtqSlS_g</th>\n",
       "      <th>-0xEqfbgJFmbXh53qSqEww</th>\n",
       "      <th>-3agoL-p87vZteiDzrz5og</th>\n",
       "      <th>-4GjoEvMHZlG8DQWy8xqtA</th>\n",
       "      <th>-5HYPAQFgtX4daBhmvO-wA</th>\n",
       "      <th>-5RiprVYwmC33pb6sX7PGg</th>\n",
       "      <th>-5WGH-41QNEVoHp6Wp53pg</th>\n",
       "      <th>-5hRD6Au5CXQqZGq1oPkEQ</th>\n",
       "      <th>-6DkJPEBQWJZm3FEWbNa_w</th>\n",
       "      <th>...</th>\n",
       "      <th>zxmVOQ7vzda-UliOuqZAlw</th>\n",
       "      <th>zxtl3pGOCMXjtYnSZaghPQ</th>\n",
       "      <th>zyEWeoMiTduGGaGU0i7jTw</th>\n",
       "      <th>zyF6zt18FWwJSPZjbnHJAg</th>\n",
       "      <th>zyVepjd-ZcNuc1tSvLeZYw</th>\n",
       "      <th>zyWJxFwO6KwpAMH_yK7BKw</th>\n",
       "      <th>zyzxWYBBWIrRdBkbwnnVrQ</th>\n",
       "      <th>zzBuXG7J0QMrIZeHq-JfSg</th>\n",
       "      <th>zzZ1HJGNhhI7GqhHIzlPhA</th>\n",
       "      <th>zzmtLn03VndGVKJPC_E2tw</th>\n",
       "    </tr>\n",
       "    <tr>\n",
       "      <th>business_id</th>\n",
       "      <th></th>\n",
       "      <th></th>\n",
       "      <th></th>\n",
       "      <th></th>\n",
       "      <th></th>\n",
       "      <th></th>\n",
       "      <th></th>\n",
       "      <th></th>\n",
       "      <th></th>\n",
       "      <th></th>\n",
       "      <th></th>\n",
       "      <th></th>\n",
       "      <th></th>\n",
       "      <th></th>\n",
       "      <th></th>\n",
       "      <th></th>\n",
       "      <th></th>\n",
       "      <th></th>\n",
       "      <th></th>\n",
       "      <th></th>\n",
       "      <th></th>\n",
       "    </tr>\n",
       "  </thead>\n",
       "  <tbody>\n",
       "    <tr>\n",
       "      <th>-05uZNVbb8DhFweTEOoDVg</th>\n",
       "      <td>NaN</td>\n",
       "      <td>NaN</td>\n",
       "      <td>NaN</td>\n",
       "      <td>NaN</td>\n",
       "      <td>NaN</td>\n",
       "      <td>NaN</td>\n",
       "      <td>NaN</td>\n",
       "      <td>NaN</td>\n",
       "      <td>NaN</td>\n",
       "      <td>NaN</td>\n",
       "      <td>...</td>\n",
       "      <td>NaN</td>\n",
       "      <td>NaN</td>\n",
       "      <td>NaN</td>\n",
       "      <td>NaN</td>\n",
       "      <td>NaN</td>\n",
       "      <td>NaN</td>\n",
       "      <td>NaN</td>\n",
       "      <td>NaN</td>\n",
       "      <td>NaN</td>\n",
       "      <td>NaN</td>\n",
       "    </tr>\n",
       "    <tr>\n",
       "      <th>-2q4dnUw0gGJniGW2aPamQ</th>\n",
       "      <td>NaN</td>\n",
       "      <td>NaN</td>\n",
       "      <td>NaN</td>\n",
       "      <td>NaN</td>\n",
       "      <td>NaN</td>\n",
       "      <td>NaN</td>\n",
       "      <td>NaN</td>\n",
       "      <td>NaN</td>\n",
       "      <td>NaN</td>\n",
       "      <td>NaN</td>\n",
       "      <td>...</td>\n",
       "      <td>NaN</td>\n",
       "      <td>NaN</td>\n",
       "      <td>NaN</td>\n",
       "      <td>NaN</td>\n",
       "      <td>NaN</td>\n",
       "      <td>NaN</td>\n",
       "      <td>NaN</td>\n",
       "      <td>NaN</td>\n",
       "      <td>NaN</td>\n",
       "      <td>NaN</td>\n",
       "    </tr>\n",
       "    <tr>\n",
       "      <th>-5NXoZeGBdx3Bdk70tuyCw</th>\n",
       "      <td>NaN</td>\n",
       "      <td>NaN</td>\n",
       "      <td>NaN</td>\n",
       "      <td>NaN</td>\n",
       "      <td>NaN</td>\n",
       "      <td>NaN</td>\n",
       "      <td>NaN</td>\n",
       "      <td>NaN</td>\n",
       "      <td>NaN</td>\n",
       "      <td>NaN</td>\n",
       "      <td>...</td>\n",
       "      <td>NaN</td>\n",
       "      <td>NaN</td>\n",
       "      <td>NaN</td>\n",
       "      <td>NaN</td>\n",
       "      <td>NaN</td>\n",
       "      <td>NaN</td>\n",
       "      <td>NaN</td>\n",
       "      <td>NaN</td>\n",
       "      <td>NaN</td>\n",
       "      <td>NaN</td>\n",
       "    </tr>\n",
       "    <tr>\n",
       "      <th>-5dd-RjojGVK9hjAMCXVZw</th>\n",
       "      <td>NaN</td>\n",
       "      <td>NaN</td>\n",
       "      <td>NaN</td>\n",
       "      <td>NaN</td>\n",
       "      <td>NaN</td>\n",
       "      <td>NaN</td>\n",
       "      <td>NaN</td>\n",
       "      <td>NaN</td>\n",
       "      <td>NaN</td>\n",
       "      <td>NaN</td>\n",
       "      <td>...</td>\n",
       "      <td>NaN</td>\n",
       "      <td>NaN</td>\n",
       "      <td>NaN</td>\n",
       "      <td>NaN</td>\n",
       "      <td>NaN</td>\n",
       "      <td>NaN</td>\n",
       "      <td>NaN</td>\n",
       "      <td>NaN</td>\n",
       "      <td>NaN</td>\n",
       "      <td>NaN</td>\n",
       "    </tr>\n",
       "    <tr>\n",
       "      <th>-7PuYohz9dR80iGfVR_kLA</th>\n",
       "      <td>NaN</td>\n",
       "      <td>NaN</td>\n",
       "      <td>NaN</td>\n",
       "      <td>NaN</td>\n",
       "      <td>NaN</td>\n",
       "      <td>NaN</td>\n",
       "      <td>NaN</td>\n",
       "      <td>NaN</td>\n",
       "      <td>NaN</td>\n",
       "      <td>NaN</td>\n",
       "      <td>...</td>\n",
       "      <td>NaN</td>\n",
       "      <td>NaN</td>\n",
       "      <td>NaN</td>\n",
       "      <td>NaN</td>\n",
       "      <td>NaN</td>\n",
       "      <td>NaN</td>\n",
       "      <td>NaN</td>\n",
       "      <td>NaN</td>\n",
       "      <td>NaN</td>\n",
       "      <td>NaN</td>\n",
       "    </tr>\n",
       "    <tr>\n",
       "      <th>-865Ps6xb3h1LP67JcQ3mA</th>\n",
       "      <td>NaN</td>\n",
       "      <td>NaN</td>\n",
       "      <td>NaN</td>\n",
       "      <td>NaN</td>\n",
       "      <td>NaN</td>\n",
       "      <td>NaN</td>\n",
       "      <td>NaN</td>\n",
       "      <td>NaN</td>\n",
       "      <td>NaN</td>\n",
       "      <td>NaN</td>\n",
       "      <td>...</td>\n",
       "      <td>NaN</td>\n",
       "      <td>NaN</td>\n",
       "      <td>NaN</td>\n",
       "      <td>NaN</td>\n",
       "      <td>NaN</td>\n",
       "      <td>NaN</td>\n",
       "      <td>NaN</td>\n",
       "      <td>NaN</td>\n",
       "      <td>NaN</td>\n",
       "      <td>NaN</td>\n",
       "    </tr>\n",
       "    <tr>\n",
       "      <th>-A4suUjxa7gNaiUMDjO42g</th>\n",
       "      <td>NaN</td>\n",
       "      <td>NaN</td>\n",
       "      <td>NaN</td>\n",
       "      <td>NaN</td>\n",
       "      <td>NaN</td>\n",
       "      <td>NaN</td>\n",
       "      <td>NaN</td>\n",
       "      <td>NaN</td>\n",
       "      <td>NaN</td>\n",
       "      <td>NaN</td>\n",
       "      <td>...</td>\n",
       "      <td>NaN</td>\n",
       "      <td>NaN</td>\n",
       "      <td>NaN</td>\n",
       "      <td>NaN</td>\n",
       "      <td>NaN</td>\n",
       "      <td>NaN</td>\n",
       "      <td>NaN</td>\n",
       "      <td>NaN</td>\n",
       "      <td>NaN</td>\n",
       "      <td>NaN</td>\n",
       "    </tr>\n",
       "    <tr>\n",
       "      <th>-B1en4UZJzJEBiFjp1OJSQ</th>\n",
       "      <td>NaN</td>\n",
       "      <td>NaN</td>\n",
       "      <td>NaN</td>\n",
       "      <td>NaN</td>\n",
       "      <td>NaN</td>\n",
       "      <td>NaN</td>\n",
       "      <td>NaN</td>\n",
       "      <td>NaN</td>\n",
       "      <td>NaN</td>\n",
       "      <td>NaN</td>\n",
       "      <td>...</td>\n",
       "      <td>NaN</td>\n",
       "      <td>NaN</td>\n",
       "      <td>NaN</td>\n",
       "      <td>NaN</td>\n",
       "      <td>NaN</td>\n",
       "      <td>NaN</td>\n",
       "      <td>NaN</td>\n",
       "      <td>NaN</td>\n",
       "      <td>NaN</td>\n",
       "      <td>NaN</td>\n",
       "    </tr>\n",
       "    <tr>\n",
       "      <th>-Jhlh8Scjy669NdtCfKSSg</th>\n",
       "      <td>NaN</td>\n",
       "      <td>NaN</td>\n",
       "      <td>NaN</td>\n",
       "      <td>NaN</td>\n",
       "      <td>NaN</td>\n",
       "      <td>NaN</td>\n",
       "      <td>NaN</td>\n",
       "      <td>NaN</td>\n",
       "      <td>NaN</td>\n",
       "      <td>NaN</td>\n",
       "      <td>...</td>\n",
       "      <td>NaN</td>\n",
       "      <td>NaN</td>\n",
       "      <td>NaN</td>\n",
       "      <td>NaN</td>\n",
       "      <td>NaN</td>\n",
       "      <td>NaN</td>\n",
       "      <td>NaN</td>\n",
       "      <td>NaN</td>\n",
       "      <td>NaN</td>\n",
       "      <td>NaN</td>\n",
       "    </tr>\n",
       "    <tr>\n",
       "      <th>-LfTBo0oa_uD454ScEW2XA</th>\n",
       "      <td>NaN</td>\n",
       "      <td>NaN</td>\n",
       "      <td>NaN</td>\n",
       "      <td>NaN</td>\n",
       "      <td>NaN</td>\n",
       "      <td>NaN</td>\n",
       "      <td>NaN</td>\n",
       "      <td>NaN</td>\n",
       "      <td>NaN</td>\n",
       "      <td>NaN</td>\n",
       "      <td>...</td>\n",
       "      <td>NaN</td>\n",
       "      <td>NaN</td>\n",
       "      <td>NaN</td>\n",
       "      <td>NaN</td>\n",
       "      <td>NaN</td>\n",
       "      <td>NaN</td>\n",
       "      <td>NaN</td>\n",
       "      <td>NaN</td>\n",
       "      <td>NaN</td>\n",
       "      <td>NaN</td>\n",
       "    </tr>\n",
       "  </tbody>\n",
       "</table>\n",
       "<p>10 rows × 9512 columns</p>\n",
       "</div>"
      ],
      "text/plain": [
       "user_id                 -06IbFmaohdrg7kQKc3A4A  -0e6xyw_4zyg-2YtqSlS_g  \\\n",
       "business_id                                                              \n",
       "-05uZNVbb8DhFweTEOoDVg                     NaN                     NaN   \n",
       "-2q4dnUw0gGJniGW2aPamQ                     NaN                     NaN   \n",
       "-5NXoZeGBdx3Bdk70tuyCw                     NaN                     NaN   \n",
       "-5dd-RjojGVK9hjAMCXVZw                     NaN                     NaN   \n",
       "-7PuYohz9dR80iGfVR_kLA                     NaN                     NaN   \n",
       "-865Ps6xb3h1LP67JcQ3mA                     NaN                     NaN   \n",
       "-A4suUjxa7gNaiUMDjO42g                     NaN                     NaN   \n",
       "-B1en4UZJzJEBiFjp1OJSQ                     NaN                     NaN   \n",
       "-Jhlh8Scjy669NdtCfKSSg                     NaN                     NaN   \n",
       "-LfTBo0oa_uD454ScEW2XA                     NaN                     NaN   \n",
       "\n",
       "user_id                 -0xEqfbgJFmbXh53qSqEww  -3agoL-p87vZteiDzrz5og  \\\n",
       "business_id                                                              \n",
       "-05uZNVbb8DhFweTEOoDVg                     NaN                     NaN   \n",
       "-2q4dnUw0gGJniGW2aPamQ                     NaN                     NaN   \n",
       "-5NXoZeGBdx3Bdk70tuyCw                     NaN                     NaN   \n",
       "-5dd-RjojGVK9hjAMCXVZw                     NaN                     NaN   \n",
       "-7PuYohz9dR80iGfVR_kLA                     NaN                     NaN   \n",
       "-865Ps6xb3h1LP67JcQ3mA                     NaN                     NaN   \n",
       "-A4suUjxa7gNaiUMDjO42g                     NaN                     NaN   \n",
       "-B1en4UZJzJEBiFjp1OJSQ                     NaN                     NaN   \n",
       "-Jhlh8Scjy669NdtCfKSSg                     NaN                     NaN   \n",
       "-LfTBo0oa_uD454ScEW2XA                     NaN                     NaN   \n",
       "\n",
       "user_id                 -4GjoEvMHZlG8DQWy8xqtA  -5HYPAQFgtX4daBhmvO-wA  \\\n",
       "business_id                                                              \n",
       "-05uZNVbb8DhFweTEOoDVg                     NaN                     NaN   \n",
       "-2q4dnUw0gGJniGW2aPamQ                     NaN                     NaN   \n",
       "-5NXoZeGBdx3Bdk70tuyCw                     NaN                     NaN   \n",
       "-5dd-RjojGVK9hjAMCXVZw                     NaN                     NaN   \n",
       "-7PuYohz9dR80iGfVR_kLA                     NaN                     NaN   \n",
       "-865Ps6xb3h1LP67JcQ3mA                     NaN                     NaN   \n",
       "-A4suUjxa7gNaiUMDjO42g                     NaN                     NaN   \n",
       "-B1en4UZJzJEBiFjp1OJSQ                     NaN                     NaN   \n",
       "-Jhlh8Scjy669NdtCfKSSg                     NaN                     NaN   \n",
       "-LfTBo0oa_uD454ScEW2XA                     NaN                     NaN   \n",
       "\n",
       "user_id                 -5RiprVYwmC33pb6sX7PGg  -5WGH-41QNEVoHp6Wp53pg  \\\n",
       "business_id                                                              \n",
       "-05uZNVbb8DhFweTEOoDVg                     NaN                     NaN   \n",
       "-2q4dnUw0gGJniGW2aPamQ                     NaN                     NaN   \n",
       "-5NXoZeGBdx3Bdk70tuyCw                     NaN                     NaN   \n",
       "-5dd-RjojGVK9hjAMCXVZw                     NaN                     NaN   \n",
       "-7PuYohz9dR80iGfVR_kLA                     NaN                     NaN   \n",
       "-865Ps6xb3h1LP67JcQ3mA                     NaN                     NaN   \n",
       "-A4suUjxa7gNaiUMDjO42g                     NaN                     NaN   \n",
       "-B1en4UZJzJEBiFjp1OJSQ                     NaN                     NaN   \n",
       "-Jhlh8Scjy669NdtCfKSSg                     NaN                     NaN   \n",
       "-LfTBo0oa_uD454ScEW2XA                     NaN                     NaN   \n",
       "\n",
       "user_id                 -5hRD6Au5CXQqZGq1oPkEQ  -6DkJPEBQWJZm3FEWbNa_w  ...  \\\n",
       "business_id                                                             ...   \n",
       "-05uZNVbb8DhFweTEOoDVg                     NaN                     NaN  ...   \n",
       "-2q4dnUw0gGJniGW2aPamQ                     NaN                     NaN  ...   \n",
       "-5NXoZeGBdx3Bdk70tuyCw                     NaN                     NaN  ...   \n",
       "-5dd-RjojGVK9hjAMCXVZw                     NaN                     NaN  ...   \n",
       "-7PuYohz9dR80iGfVR_kLA                     NaN                     NaN  ...   \n",
       "-865Ps6xb3h1LP67JcQ3mA                     NaN                     NaN  ...   \n",
       "-A4suUjxa7gNaiUMDjO42g                     NaN                     NaN  ...   \n",
       "-B1en4UZJzJEBiFjp1OJSQ                     NaN                     NaN  ...   \n",
       "-Jhlh8Scjy669NdtCfKSSg                     NaN                     NaN  ...   \n",
       "-LfTBo0oa_uD454ScEW2XA                     NaN                     NaN  ...   \n",
       "\n",
       "user_id                 zxmVOQ7vzda-UliOuqZAlw  zxtl3pGOCMXjtYnSZaghPQ  \\\n",
       "business_id                                                              \n",
       "-05uZNVbb8DhFweTEOoDVg                     NaN                     NaN   \n",
       "-2q4dnUw0gGJniGW2aPamQ                     NaN                     NaN   \n",
       "-5NXoZeGBdx3Bdk70tuyCw                     NaN                     NaN   \n",
       "-5dd-RjojGVK9hjAMCXVZw                     NaN                     NaN   \n",
       "-7PuYohz9dR80iGfVR_kLA                     NaN                     NaN   \n",
       "-865Ps6xb3h1LP67JcQ3mA                     NaN                     NaN   \n",
       "-A4suUjxa7gNaiUMDjO42g                     NaN                     NaN   \n",
       "-B1en4UZJzJEBiFjp1OJSQ                     NaN                     NaN   \n",
       "-Jhlh8Scjy669NdtCfKSSg                     NaN                     NaN   \n",
       "-LfTBo0oa_uD454ScEW2XA                     NaN                     NaN   \n",
       "\n",
       "user_id                 zyEWeoMiTduGGaGU0i7jTw  zyF6zt18FWwJSPZjbnHJAg  \\\n",
       "business_id                                                              \n",
       "-05uZNVbb8DhFweTEOoDVg                     NaN                     NaN   \n",
       "-2q4dnUw0gGJniGW2aPamQ                     NaN                     NaN   \n",
       "-5NXoZeGBdx3Bdk70tuyCw                     NaN                     NaN   \n",
       "-5dd-RjojGVK9hjAMCXVZw                     NaN                     NaN   \n",
       "-7PuYohz9dR80iGfVR_kLA                     NaN                     NaN   \n",
       "-865Ps6xb3h1LP67JcQ3mA                     NaN                     NaN   \n",
       "-A4suUjxa7gNaiUMDjO42g                     NaN                     NaN   \n",
       "-B1en4UZJzJEBiFjp1OJSQ                     NaN                     NaN   \n",
       "-Jhlh8Scjy669NdtCfKSSg                     NaN                     NaN   \n",
       "-LfTBo0oa_uD454ScEW2XA                     NaN                     NaN   \n",
       "\n",
       "user_id                 zyVepjd-ZcNuc1tSvLeZYw  zyWJxFwO6KwpAMH_yK7BKw  \\\n",
       "business_id                                                              \n",
       "-05uZNVbb8DhFweTEOoDVg                     NaN                     NaN   \n",
       "-2q4dnUw0gGJniGW2aPamQ                     NaN                     NaN   \n",
       "-5NXoZeGBdx3Bdk70tuyCw                     NaN                     NaN   \n",
       "-5dd-RjojGVK9hjAMCXVZw                     NaN                     NaN   \n",
       "-7PuYohz9dR80iGfVR_kLA                     NaN                     NaN   \n",
       "-865Ps6xb3h1LP67JcQ3mA                     NaN                     NaN   \n",
       "-A4suUjxa7gNaiUMDjO42g                     NaN                     NaN   \n",
       "-B1en4UZJzJEBiFjp1OJSQ                     NaN                     NaN   \n",
       "-Jhlh8Scjy669NdtCfKSSg                     NaN                     NaN   \n",
       "-LfTBo0oa_uD454ScEW2XA                     NaN                     NaN   \n",
       "\n",
       "user_id                 zyzxWYBBWIrRdBkbwnnVrQ  zzBuXG7J0QMrIZeHq-JfSg  \\\n",
       "business_id                                                              \n",
       "-05uZNVbb8DhFweTEOoDVg                     NaN                     NaN   \n",
       "-2q4dnUw0gGJniGW2aPamQ                     NaN                     NaN   \n",
       "-5NXoZeGBdx3Bdk70tuyCw                     NaN                     NaN   \n",
       "-5dd-RjojGVK9hjAMCXVZw                     NaN                     NaN   \n",
       "-7PuYohz9dR80iGfVR_kLA                     NaN                     NaN   \n",
       "-865Ps6xb3h1LP67JcQ3mA                     NaN                     NaN   \n",
       "-A4suUjxa7gNaiUMDjO42g                     NaN                     NaN   \n",
       "-B1en4UZJzJEBiFjp1OJSQ                     NaN                     NaN   \n",
       "-Jhlh8Scjy669NdtCfKSSg                     NaN                     NaN   \n",
       "-LfTBo0oa_uD454ScEW2XA                     NaN                     NaN   \n",
       "\n",
       "user_id                 zzZ1HJGNhhI7GqhHIzlPhA  zzmtLn03VndGVKJPC_E2tw  \n",
       "business_id                                                             \n",
       "-05uZNVbb8DhFweTEOoDVg                     NaN                     NaN  \n",
       "-2q4dnUw0gGJniGW2aPamQ                     NaN                     NaN  \n",
       "-5NXoZeGBdx3Bdk70tuyCw                     NaN                     NaN  \n",
       "-5dd-RjojGVK9hjAMCXVZw                     NaN                     NaN  \n",
       "-7PuYohz9dR80iGfVR_kLA                     NaN                     NaN  \n",
       "-865Ps6xb3h1LP67JcQ3mA                     NaN                     NaN  \n",
       "-A4suUjxa7gNaiUMDjO42g                     NaN                     NaN  \n",
       "-B1en4UZJzJEBiFjp1OJSQ                     NaN                     NaN  \n",
       "-Jhlh8Scjy669NdtCfKSSg                     NaN                     NaN  \n",
       "-LfTBo0oa_uD454ScEW2XA                     NaN                     NaN  \n",
       "\n",
       "[10 rows x 9512 columns]"
      ]
     },
     "execution_count": 130,
     "metadata": {},
     "output_type": "execute_result"
    }
   ],
   "source": [
    "# The ratings matrix with Users ratings for every restaurant. \n",
    "ratings_mat = restaurants_revsratscmntz.pivot_table('user_restau_rating', index='business_id', columns='user_id')\n",
    "print('The shape of the ratings matrix is:',ratings_mat.shape)\n",
    "ratings_mat.head(10)"
   ]
  },
  {
   "cell_type": "markdown",
   "metadata": {},
   "source": [
    "#### Model Validation:\n",
    "\n",
    "To validate the model, we split the data using the `train_test_split` function from the `sklearn.model_selection library` into a training and test data set in a ratio 4:1 respectively. "
   ]
  },
  {
   "cell_type": "code",
   "execution_count": 100,
   "metadata": {},
   "outputs": [],
   "source": [
    "# Save the ratings matrix to a csv file. Also split the matrix into test and train data\n",
    "restaurants_revsratscmntz.to_csv('restaurants_revsratscmnts_IL.csv')\n",
    "restaurants_revsratscmntz_train, restaurants_revsratscmntz_test = train_test_split(restaurants_revsratscmntz, test_size=0.2, random_state = 0)"
   ]
  },
  {
   "cell_type": "code",
   "execution_count": 101,
   "metadata": {},
   "outputs": [
    {
     "data": {
      "text/plain": [
       "21581"
      ]
     },
     "execution_count": 101,
     "metadata": {},
     "output_type": "execute_result"
    }
   ],
   "source": [
    "len(restaurants_revsratscmntz_train.user_avg_stars)"
   ]
  },
  {
   "cell_type": "code",
   "execution_count": 102,
   "metadata": {},
   "outputs": [
    {
     "data": {
      "text/plain": [
       "5396"
      ]
     },
     "execution_count": 102,
     "metadata": {},
     "output_type": "execute_result"
    }
   ],
   "source": [
    "len(restaurants_revsratscmntz_test.user_avg_stars)"
   ]
  },
  {
   "cell_type": "code",
   "execution_count": 103,
   "metadata": {},
   "outputs": [
    {
     "data": {
      "text/plain": [
       "0"
      ]
     },
     "execution_count": 103,
     "metadata": {},
     "output_type": "execute_result"
    }
   ],
   "source": [
    "restaurants_revsratscmntz.user_avg_stars.isnull().sum()"
   ]
  },
  {
   "cell_type": "code",
   "execution_count": 104,
   "metadata": {},
   "outputs": [
    {
     "data": {
      "text/plain": [
       "array(['Champaign', 'Urbana', 'Tuscola', 'Mahomet', 'Savoy', 'Rantoul',\n",
       "       'Mansfield', 'Monticello', 'Philo', 'Homer', 'Saint Joseph',\n",
       "       'Ogden', 'St Joseph', 'Tolono', 'Sidney', 'Fithian', 'Oakwood',\n",
       "       'Gifford', 'Villa Grove'], dtype=object)"
      ]
     },
     "execution_count": 104,
     "metadata": {},
     "output_type": "execute_result"
    }
   ],
   "source": [
    "cities = restaurants_revsratscmntz.city.unique()\n",
    "cities"
   ]
  },
  {
   "cell_type": "markdown",
   "metadata": {},
   "source": [
    "#### Collaborative-based recommendation\n",
    "\n",
    "Pandas is used to build a collaborative filter that estimates ratings using a pearson correlation as the similarity metric that compares users. The performance of the recommendation is measured through a defined function called `evaluate` that makes use of the `mean_square_error` function from the `sklearn.metrics` library. These are all bundled in the class `RatingsReco`"
   ]
  },
  {
   "cell_type": "code",
   "execution_count": 105,
   "metadata": {},
   "outputs": [],
   "source": [
    "# Function to compute Root Mean Squared Speed\n",
    "def compute_rmse(y_pred, y_true):\n",
    "    \"\"\" Compute Root Mean Squared Error. \"\"\"\n",
    "    return np.sqrt(mean_squared_error(y_pred, y_true)) \n",
    "\n",
    "\n",
    "def evaluate(func):\n",
    "    \"\"\" RMSE-based predictive performance evaluation with pandas. \"\"\"\n",
    "    \n",
    "    ids_to_estimate = zip(restaurants_revsratscmntz_test.user_id, restaurants_revsratscmntz_test.business_id)\n",
    "    estimated = np.array([func(u,i) for (u,i) in ids_to_estimate])\n",
    "    real = restaurants_revsratscmntz_test.user_restau_rating.values\n",
    "    return compute_rmse(estimated, real)\n",
    "\n",
    "def pearson(prfl1, prfl2):\n",
    "    \"\"\"Take two pd.Series objects and return a pearson correlation.\"\"\"\n",
    "    profl1 = prfl1 - prfl1.mean()\n",
    "    profl2 = prfl2 - prfl2.mean()\n",
    "    return np.sum(profl1 * profl2) / np.sqrt(np.sum(profl1 ** 2) * np.sum(profl2 ** 2))\n",
    "\n",
    "\n",
    "class RatingsReco:\n",
    "    \"\"\" Collaborative filtering using a pearson similarity metric \"\"\"\n",
    "\n",
    "    def learn(self):\n",
    "        \"\"\" Prepare datastructures for estimation. \"\"\"\n",
    "        \n",
    "        self.all_user_profiles = restaurants_revsratscmntz.pivot_table('user_restau_rating', index='business_id', columns='user_id')\n",
    "\n",
    "    def estimate(self, user_id, business_id):\n",
    "        \"\"\" Ratings weighted by correlation similarity. \"\"\"\n",
    "        \n",
    "        user_condition = restaurants_revsratscmntz_train.user_id != user_id\n",
    "        restau_condition = restaurants_revsratscmntz_train.business_id == business_id\n",
    "        avg_mean = restaurants_revsratscmntz_train.user_avg_stars.loc[user_condition & restau_condition].mean()\n",
    "        ratings_by_others = restaurants_revsratscmntz_train.loc[user_condition & restau_condition]\n",
    "        if ratings_by_others.empty:\n",
    "            return 3.0\n",
    "        \n",
    "        \n",
    "        \n",
    "        ratings_by_others.set_index('user_id', inplace=True)\n",
    "        their_ids = ratings_by_others.index\n",
    "        their_ratings = ratings_by_others.user_restau_rating\n",
    "        their_profiles = self.all_user_profiles[their_ids]\n",
    "        user_profile = self.all_user_profiles[user_id]\n",
    "        sims = their_profiles.apply(lambda profile: pearson(profile, user_profile), axis=0)\n",
    "        ratings_sims = pd.DataFrame({'sim': sims, 'rating': their_ratings})\n",
    "        ratings_sims = ratings_sims[ratings_sims.sim > 0]\n",
    "        if ratings_sims.empty:\n",
    "            return their_ratings.mean()\n",
    "        else:\n",
    "            return np.average(ratings_sims.rating, weights=ratings_sims.sim)\n",
    "        "
   ]
  },
  {
   "cell_type": "code",
   "execution_count": 106,
   "metadata": {},
   "outputs": [
    {
     "name": "stdout",
     "output_type": "stream",
     "text": [
      "CPU times: user 330 ms, sys: 52.4 ms, total: 382 ms\n",
      "Wall time: 241 ms\n"
     ]
    }
   ],
   "source": [
    "# Creating an instance of the class and calling the learn method of the class.\n",
    "reco = RatingsReco()\n",
    "%time reco.learn()"
   ]
  },
  {
   "cell_type": "markdown",
   "metadata": {},
   "source": [
    "#### Model Evaluation:\n",
    "The performance metric used is the `RMSE: Root Mean Square Error` which is called through the evaluate function. The RMSE is 1.05 which implies averagely the predicted ratings are approximately `1 star` off the actual ratings which is fairly good."
   ]
  },
  {
   "cell_type": "code",
   "execution_count": 116,
   "metadata": {
    "scrolled": true
   },
   "outputs": [
    {
     "name": "stdout",
     "output_type": "stream",
     "text": [
      "RMSE for RatingsReco: 1.0477057896764816\n",
      "CPU times: user 13min 32s, sys: 7.63 s, total: 13min 40s\n",
      "Wall time: 13min 56s\n"
     ]
    }
   ],
   "source": [
    "%time print ('RMSE for RatingsReco: %s' % evaluate(reco.estimate))"
   ]
  },
  {
   "cell_type": "markdown",
   "metadata": {},
   "source": [
    "#### Display table with actual and predicted ratings"
   ]
  },
  {
   "cell_type": "code",
   "execution_count": 38,
   "metadata": {},
   "outputs": [
    {
     "name": "stdout",
     "output_type": "stream",
     "text": [
      "CPU times: user 1h 8min 58s, sys: 52.6 s, total: 1h 9min 51s\n",
      "Wall time: 1h 10min 42s\n"
     ]
    },
    {
     "data": {
      "text/html": [
       "<div>\n",
       "<style scoped>\n",
       "    .dataframe tbody tr th:only-of-type {\n",
       "        vertical-align: middle;\n",
       "    }\n",
       "\n",
       "    .dataframe tbody tr th {\n",
       "        vertical-align: top;\n",
       "    }\n",
       "\n",
       "    .dataframe thead th {\n",
       "        text-align: right;\n",
       "    }\n",
       "</style>\n",
       "<table border=\"1\" class=\"dataframe\">\n",
       "  <thead>\n",
       "    <tr style=\"text-align: right;\">\n",
       "      <th></th>\n",
       "      <th>user_name</th>\n",
       "      <th>restau_name</th>\n",
       "      <th>user_restau_rating</th>\n",
       "      <th>pred_rating</th>\n",
       "    </tr>\n",
       "  </thead>\n",
       "  <tbody>\n",
       "    <tr>\n",
       "      <th>0</th>\n",
       "      <td>Sheryl</td>\n",
       "      <td>\"Alexander's Steakhouse\"</td>\n",
       "      <td>4</td>\n",
       "      <td>3.0</td>\n",
       "    </tr>\n",
       "    <tr>\n",
       "      <th>1</th>\n",
       "      <td>Michael</td>\n",
       "      <td>\"Alexander's Steakhouse\"</td>\n",
       "      <td>2</td>\n",
       "      <td>2.0</td>\n",
       "    </tr>\n",
       "    <tr>\n",
       "      <th>2</th>\n",
       "      <td>Taffy</td>\n",
       "      <td>\"Alexander's Steakhouse\"</td>\n",
       "      <td>5</td>\n",
       "      <td>4.0</td>\n",
       "    </tr>\n",
       "    <tr>\n",
       "      <th>3</th>\n",
       "      <td>Zewditu</td>\n",
       "      <td>\"Alexander's Steakhouse\"</td>\n",
       "      <td>4</td>\n",
       "      <td>4.0</td>\n",
       "    </tr>\n",
       "    <tr>\n",
       "      <th>4</th>\n",
       "      <td>Jake</td>\n",
       "      <td>\"Alexander's Steakhouse\"</td>\n",
       "      <td>5</td>\n",
       "      <td>3.0</td>\n",
       "    </tr>\n",
       "    <tr>\n",
       "      <th>5</th>\n",
       "      <td>Melissa</td>\n",
       "      <td>\"Alexander's Steakhouse\"</td>\n",
       "      <td>2</td>\n",
       "      <td>3.0</td>\n",
       "    </tr>\n",
       "    <tr>\n",
       "      <th>6</th>\n",
       "      <td>Harry</td>\n",
       "      <td>\"Alexander's Steakhouse\"</td>\n",
       "      <td>5</td>\n",
       "      <td>3.0</td>\n",
       "    </tr>\n",
       "    <tr>\n",
       "      <th>7</th>\n",
       "      <td>Herb</td>\n",
       "      <td>\"Alexander's Steakhouse\"</td>\n",
       "      <td>2</td>\n",
       "      <td>2.0</td>\n",
       "    </tr>\n",
       "    <tr>\n",
       "      <th>8</th>\n",
       "      <td>Jay</td>\n",
       "      <td>\"Alexander's Steakhouse\"</td>\n",
       "      <td>4</td>\n",
       "      <td>5.0</td>\n",
       "    </tr>\n",
       "    <tr>\n",
       "      <th>9</th>\n",
       "      <td>Chad</td>\n",
       "      <td>\"Alexander's Steakhouse\"</td>\n",
       "      <td>5</td>\n",
       "      <td>3.0</td>\n",
       "    </tr>\n",
       "  </tbody>\n",
       "</table>\n",
       "</div>"
      ],
      "text/plain": [
       "  user_name               restau_name  user_restau_rating  pred_rating\n",
       "0    Sheryl  \"Alexander's Steakhouse\"                   4          3.0\n",
       "1   Michael  \"Alexander's Steakhouse\"                   2          2.0\n",
       "2     Taffy  \"Alexander's Steakhouse\"                   5          4.0\n",
       "3   Zewditu  \"Alexander's Steakhouse\"                   4          4.0\n",
       "4      Jake  \"Alexander's Steakhouse\"                   5          3.0\n",
       "5   Melissa  \"Alexander's Steakhouse\"                   2          3.0\n",
       "6     Harry  \"Alexander's Steakhouse\"                   5          3.0\n",
       "7      Herb  \"Alexander's Steakhouse\"                   2          2.0\n",
       "8       Jay  \"Alexander's Steakhouse\"                   4          5.0\n",
       "9      Chad  \"Alexander's Steakhouse\"                   5          3.0"
      ]
     },
     "execution_count": 38,
     "metadata": {},
     "output_type": "execute_result"
    }
   ],
   "source": [
    "# Create a tuple of user_ids and business_ids.\n",
    "usr_biz_ids = zip(restaurants_revsratscmntz.user_id,restaurants_revsratscmntz.business_id)\n",
    "\n",
    "# Create an array of predicted ratings of user and restaurants\n",
    "%time pred_rat = np.array([reco.estimate(usr_id,biz_id) for (usr_id,biz_id) in usr_biz_ids])\n",
    "\n",
    "# Add the predicted values to the restaurants_revratescmntz under a column name 'pred_rating'\n",
    "restaurants_revsratscmntz['pred_rating'] = np.around(pred_rat,0)\n",
    "\n",
    "# Show user name, restaurant name user rating of the restaurant and the predicted rating of restaurant\n",
    "restaurants_revsratscmntz[['user_name','restau_name','user_restau_rating','pred_rating']].head(10)\n"
   ]
  },
  {
   "cell_type": "markdown",
   "metadata": {},
   "source": [
    "#### Restaurant recommendation by city:\n",
    "\n",
    "The `restau_recommend` function recommends to a user a list of restaurants in the cities of Illinois which have a predicted rating or `5 stars` to the specific user and have a high weighted score."
   ]
  },
  {
   "cell_type": "code",
   "execution_count": 110,
   "metadata": {},
   "outputs": [],
   "source": [
    "def restau_recommend(user, city):\n",
    "    '''Function takes each city and recommends top restaurants which have 5 starts and have \n",
    "    high scores'''\n",
    "    restau_rec = []\n",
    "\n",
    "    for i in restaurants_revsratscmntz.business_id[restaurants_revsratscmntz.city==city].unique():\n",
    "        if (reco.estimate(user,i) == 5.0):\n",
    "            restau_info=(restaurants_revsratscmntz.user_name[restaurants_revsratscmntz.user_id==user].unique()[0],\\\n",
    "                         restaurants_revsratscmntz.city[restaurants_revsratscmntz.city==city].unique()[0],\\\n",
    "                         restaurants_revsratscmntz.restau_name[restaurants_revsratscmntz.business_id==i].unique()[0],\\\n",
    "                         restaurants_revsratscmntz.restau_rating[restaurants_revsratscmntz.business_id==i].unique()[0],\\\n",
    "                         float(round((reco.estimate(user,i)+restaurants_revsratscmntz.score[restaurants_revsratscmntz.business_id==i].unique()[0])/2)),\\\n",
    "                         round(restaurants_revsratscmntz.score[restaurants_revsratscmntz.business_id==i].unique()[0],2))\n",
    "            \n",
    "            restau_rec.append(restau_info)\n",
    "    \n",
    "    restau_rec = pd.DataFrame(restau_rec, columns=['USER NAME','CITY','RESTAURANT NAME', 'RESTAU RATING','PREDICTED RATING', 'SCORE']).sort_values(by=['SCORE','PREDICTED RATING'], ascending=False).reset_index(drop=True)\n",
    "    recommended_restau = restau_rec[restau_rec['PREDICTED RATING'] == 5.0][['USER NAME','CITY','RESTAURANT NAME']]\n",
    "    return recommended_restau"
   ]
  },
  {
   "cell_type": "markdown",
   "metadata": {},
   "source": [
    "### Recommend Restaurants to 3 users:\n",
    "\n",
    "The restau_recommend function is used to recommend restaurants to Amanda, J. and Mindy in the cities of Champaign,Mahomet and Urbana"
   ]
  },
  {
   "cell_type": "code",
   "execution_count": 134,
   "metadata": {},
   "outputs": [
    {
     "data": {
      "text/html": [
       "<div>\n",
       "<style scoped>\n",
       "    .dataframe tbody tr th:only-of-type {\n",
       "        vertical-align: middle;\n",
       "    }\n",
       "\n",
       "    .dataframe tbody tr th {\n",
       "        vertical-align: top;\n",
       "    }\n",
       "\n",
       "    .dataframe thead th {\n",
       "        text-align: right;\n",
       "    }\n",
       "</style>\n",
       "<table border=\"1\" class=\"dataframe\">\n",
       "  <thead>\n",
       "    <tr style=\"text-align: right;\">\n",
       "      <th></th>\n",
       "      <th>USER NAME</th>\n",
       "      <th>CITY</th>\n",
       "      <th>RESTAURANT NAME</th>\n",
       "    </tr>\n",
       "  </thead>\n",
       "  <tbody>\n",
       "    <tr>\n",
       "      <th>0</th>\n",
       "      <td>Amanda</td>\n",
       "      <td>Champaign</td>\n",
       "      <td>\"Fresh International Market\"</td>\n",
       "    </tr>\n",
       "    <tr>\n",
       "      <th>1</th>\n",
       "      <td>Amanda</td>\n",
       "      <td>Champaign</td>\n",
       "      <td>\"Aldi\"</td>\n",
       "    </tr>\n",
       "    <tr>\n",
       "      <th>2</th>\n",
       "      <td>Amanda</td>\n",
       "      <td>Champaign</td>\n",
       "      <td>\"Cafe Sababa\"</td>\n",
       "    </tr>\n",
       "    <tr>\n",
       "      <th>3</th>\n",
       "      <td>Amanda</td>\n",
       "      <td>Champaign</td>\n",
       "      <td>\"Wood N' Hog Barbecue\"</td>\n",
       "    </tr>\n",
       "    <tr>\n",
       "      <th>4</th>\n",
       "      <td>Amanda</td>\n",
       "      <td>Champaign</td>\n",
       "      <td>\"Leadbelly's\"</td>\n",
       "    </tr>\n",
       "    <tr>\n",
       "      <th>5</th>\n",
       "      <td>Amanda</td>\n",
       "      <td>Champaign</td>\n",
       "      <td>\"Edible Arrangements\"</td>\n",
       "    </tr>\n",
       "    <tr>\n",
       "      <th>6</th>\n",
       "      <td>Amanda</td>\n",
       "      <td>Champaign</td>\n",
       "      <td>\"Teamoji\"</td>\n",
       "    </tr>\n",
       "    <tr>\n",
       "      <th>7</th>\n",
       "      <td>Amanda</td>\n",
       "      <td>Champaign</td>\n",
       "      <td>\"Kung Fu Tea\"</td>\n",
       "    </tr>\n",
       "    <tr>\n",
       "      <th>8</th>\n",
       "      <td>Amanda</td>\n",
       "      <td>Champaign</td>\n",
       "      <td>\"Pie's the Limit\"</td>\n",
       "    </tr>\n",
       "    <tr>\n",
       "      <th>9</th>\n",
       "      <td>Amanda</td>\n",
       "      <td>Champaign</td>\n",
       "      <td>\"Binny's Beverage Depot\"</td>\n",
       "    </tr>\n",
       "    <tr>\n",
       "      <th>10</th>\n",
       "      <td>Amanda</td>\n",
       "      <td>Champaign</td>\n",
       "      <td>\"Grovestone\"</td>\n",
       "    </tr>\n",
       "    <tr>\n",
       "      <th>11</th>\n",
       "      <td>Amanda</td>\n",
       "      <td>Champaign</td>\n",
       "      <td>\"Wedding Cakes by Rosie\"</td>\n",
       "    </tr>\n",
       "    <tr>\n",
       "      <th>12</th>\n",
       "      <td>Amanda</td>\n",
       "      <td>Champaign</td>\n",
       "      <td>\"Crave Truck\"</td>\n",
       "    </tr>\n",
       "    <tr>\n",
       "      <th>13</th>\n",
       "      <td>Amanda</td>\n",
       "      <td>Champaign</td>\n",
       "      <td>\"Chester's BBQ\"</td>\n",
       "    </tr>\n",
       "  </tbody>\n",
       "</table>\n",
       "</div>"
      ],
      "text/plain": [
       "   USER NAME       CITY               RESTAURANT NAME\n",
       "0     Amanda  Champaign  \"Fresh International Market\"\n",
       "1     Amanda  Champaign                        \"Aldi\"\n",
       "2     Amanda  Champaign                 \"Cafe Sababa\"\n",
       "3     Amanda  Champaign        \"Wood N' Hog Barbecue\"\n",
       "4     Amanda  Champaign                 \"Leadbelly's\"\n",
       "5     Amanda  Champaign         \"Edible Arrangements\"\n",
       "6     Amanda  Champaign                     \"Teamoji\"\n",
       "7     Amanda  Champaign                 \"Kung Fu Tea\"\n",
       "8     Amanda  Champaign             \"Pie's the Limit\"\n",
       "9     Amanda  Champaign      \"Binny's Beverage Depot\"\n",
       "10    Amanda  Champaign                  \"Grovestone\"\n",
       "11    Amanda  Champaign      \"Wedding Cakes by Rosie\"\n",
       "12    Amanda  Champaign                 \"Crave Truck\"\n",
       "13    Amanda  Champaign               \"Chester's BBQ\""
      ]
     },
     "execution_count": 134,
     "metadata": {},
     "output_type": "execute_result"
    }
   ],
   "source": [
    "restau_recommend('zyzxWYBBWIrRdBkbwnnVrQ','Champaign')"
   ]
  },
  {
   "cell_type": "code",
   "execution_count": 135,
   "metadata": {},
   "outputs": [
    {
     "data": {
      "text/html": [
       "<div>\n",
       "<style scoped>\n",
       "    .dataframe tbody tr th:only-of-type {\n",
       "        vertical-align: middle;\n",
       "    }\n",
       "\n",
       "    .dataframe tbody tr th {\n",
       "        vertical-align: top;\n",
       "    }\n",
       "\n",
       "    .dataframe thead th {\n",
       "        text-align: right;\n",
       "    }\n",
       "</style>\n",
       "<table border=\"1\" class=\"dataframe\">\n",
       "  <thead>\n",
       "    <tr style=\"text-align: right;\">\n",
       "      <th></th>\n",
       "      <th>USER NAME</th>\n",
       "      <th>CITY</th>\n",
       "      <th>RESTAURANT NAME</th>\n",
       "    </tr>\n",
       "  </thead>\n",
       "  <tbody>\n",
       "    <tr>\n",
       "      <th>0</th>\n",
       "      <td>J.</td>\n",
       "      <td>Champaign</td>\n",
       "      <td>\"Aldi\"</td>\n",
       "    </tr>\n",
       "    <tr>\n",
       "      <th>1</th>\n",
       "      <td>J.</td>\n",
       "      <td>Champaign</td>\n",
       "      <td>\"Cafe Sababa\"</td>\n",
       "    </tr>\n",
       "    <tr>\n",
       "      <th>2</th>\n",
       "      <td>J.</td>\n",
       "      <td>Champaign</td>\n",
       "      <td>\"Leadbelly's\"</td>\n",
       "    </tr>\n",
       "    <tr>\n",
       "      <th>3</th>\n",
       "      <td>J.</td>\n",
       "      <td>Champaign</td>\n",
       "      <td>\"Edible Arrangements\"</td>\n",
       "    </tr>\n",
       "    <tr>\n",
       "      <th>4</th>\n",
       "      <td>J.</td>\n",
       "      <td>Champaign</td>\n",
       "      <td>\"Teamoji\"</td>\n",
       "    </tr>\n",
       "    <tr>\n",
       "      <th>5</th>\n",
       "      <td>J.</td>\n",
       "      <td>Champaign</td>\n",
       "      <td>\"Kung Fu Tea\"</td>\n",
       "    </tr>\n",
       "    <tr>\n",
       "      <th>6</th>\n",
       "      <td>J.</td>\n",
       "      <td>Champaign</td>\n",
       "      <td>\"Grovestone\"</td>\n",
       "    </tr>\n",
       "    <tr>\n",
       "      <th>7</th>\n",
       "      <td>J.</td>\n",
       "      <td>Champaign</td>\n",
       "      <td>\"Wedding Cakes by Rosie\"</td>\n",
       "    </tr>\n",
       "  </tbody>\n",
       "</table>\n",
       "</div>"
      ],
      "text/plain": [
       "  USER NAME       CITY           RESTAURANT NAME\n",
       "0        J.  Champaign                    \"Aldi\"\n",
       "1        J.  Champaign             \"Cafe Sababa\"\n",
       "2        J.  Champaign             \"Leadbelly's\"\n",
       "3        J.  Champaign     \"Edible Arrangements\"\n",
       "4        J.  Champaign                 \"Teamoji\"\n",
       "5        J.  Champaign             \"Kung Fu Tea\"\n",
       "6        J.  Champaign              \"Grovestone\"\n",
       "7        J.  Champaign  \"Wedding Cakes by Rosie\""
      ]
     },
     "execution_count": 135,
     "metadata": {},
     "output_type": "execute_result"
    }
   ],
   "source": [
    "restau_recommend('-0xEqfbgJFmbXh53qSqEww', 'Champaign')"
   ]
  },
  {
   "cell_type": "code",
   "execution_count": 136,
   "metadata": {},
   "outputs": [
    {
     "data": {
      "text/html": [
       "<div>\n",
       "<style scoped>\n",
       "    .dataframe tbody tr th:only-of-type {\n",
       "        vertical-align: middle;\n",
       "    }\n",
       "\n",
       "    .dataframe tbody tr th {\n",
       "        vertical-align: top;\n",
       "    }\n",
       "\n",
       "    .dataframe thead th {\n",
       "        text-align: right;\n",
       "    }\n",
       "</style>\n",
       "<table border=\"1\" class=\"dataframe\">\n",
       "  <thead>\n",
       "    <tr style=\"text-align: right;\">\n",
       "      <th></th>\n",
       "      <th>USER NAME</th>\n",
       "      <th>CITY</th>\n",
       "      <th>RESTAURANT NAME</th>\n",
       "    </tr>\n",
       "  </thead>\n",
       "  <tbody>\n",
       "    <tr>\n",
       "      <th>0</th>\n",
       "      <td>Mindy</td>\n",
       "      <td>Champaign</td>\n",
       "      <td>\"Aldi\"</td>\n",
       "    </tr>\n",
       "    <tr>\n",
       "      <th>1</th>\n",
       "      <td>Mindy</td>\n",
       "      <td>Champaign</td>\n",
       "      <td>\"Cafe Sababa\"</td>\n",
       "    </tr>\n",
       "    <tr>\n",
       "      <th>2</th>\n",
       "      <td>Mindy</td>\n",
       "      <td>Champaign</td>\n",
       "      <td>\"Leadbelly's\"</td>\n",
       "    </tr>\n",
       "    <tr>\n",
       "      <th>3</th>\n",
       "      <td>Mindy</td>\n",
       "      <td>Champaign</td>\n",
       "      <td>\"Edible Arrangements\"</td>\n",
       "    </tr>\n",
       "    <tr>\n",
       "      <th>4</th>\n",
       "      <td>Mindy</td>\n",
       "      <td>Champaign</td>\n",
       "      <td>\"Teamoji\"</td>\n",
       "    </tr>\n",
       "    <tr>\n",
       "      <th>5</th>\n",
       "      <td>Mindy</td>\n",
       "      <td>Champaign</td>\n",
       "      <td>\"Kung Fu Tea\"</td>\n",
       "    </tr>\n",
       "    <tr>\n",
       "      <th>6</th>\n",
       "      <td>Mindy</td>\n",
       "      <td>Champaign</td>\n",
       "      <td>\"Grovestone\"</td>\n",
       "    </tr>\n",
       "    <tr>\n",
       "      <th>7</th>\n",
       "      <td>Mindy</td>\n",
       "      <td>Champaign</td>\n",
       "      <td>\"Wedding Cakes by Rosie\"</td>\n",
       "    </tr>\n",
       "  </tbody>\n",
       "</table>\n",
       "</div>"
      ],
      "text/plain": [
       "  USER NAME       CITY           RESTAURANT NAME\n",
       "0     Mindy  Champaign                    \"Aldi\"\n",
       "1     Mindy  Champaign             \"Cafe Sababa\"\n",
       "2     Mindy  Champaign             \"Leadbelly's\"\n",
       "3     Mindy  Champaign     \"Edible Arrangements\"\n",
       "4     Mindy  Champaign                 \"Teamoji\"\n",
       "5     Mindy  Champaign             \"Kung Fu Tea\"\n",
       "6     Mindy  Champaign              \"Grovestone\"\n",
       "7     Mindy  Champaign  \"Wedding Cakes by Rosie\""
      ]
     },
     "execution_count": 136,
     "metadata": {},
     "output_type": "execute_result"
    }
   ],
   "source": [
    "restau_recommend('-3agoL-p87vZteiDzrz5og', 'Champaign')"
   ]
  },
  {
   "cell_type": "markdown",
   "metadata": {},
   "source": [
    "### Conclusion:\n",
    "\n",
    "This recommendation system provides a user with a list of restaurants in a city that other users similar in taste to this specific user would recommend to him.\n",
    "\n",
    "A specific case of 19 Illinois cities extracted from the yelp data set was used. This could be scaled to different cities nationally.\n",
    "\n",
    "Such a system is useful in recommending restaurants to a yelp user when he gets into a new city not based on distance but on its popularity and rating by other users similar to this user."
   ]
  },
  {
   "cell_type": "markdown",
   "metadata": {},
   "source": [
    "   "
   ]
  }
 ],
 "metadata": {
  "kernelspec": {
   "display_name": "Python 3",
   "language": "python",
   "name": "python3"
  },
  "language_info": {
   "codemirror_mode": {
    "name": "ipython",
    "version": 3
   },
   "file_extension": ".py",
   "mimetype": "text/x-python",
   "name": "python",
   "nbconvert_exporter": "python",
   "pygments_lexer": "ipython3",
   "version": "3.7.3"
  }
 },
 "nbformat": 4,
 "nbformat_minor": 2
}
