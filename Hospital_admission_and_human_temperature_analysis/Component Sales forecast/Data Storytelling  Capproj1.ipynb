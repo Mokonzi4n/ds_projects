{
 "cells": [
  {
   "cell_type": "code",
   "execution_count": 1,
   "metadata": {},
   "outputs": [],
   "source": [
    "import matplotlib.pyplot as plt\n",
    "import seaborn as sns\n",
    "import numpy as np\n",
    "import pandas as pd\n",
    "from glob import glob\n",
    "from datetime import datetime\n",
    "\n"
   ]
  },
  {
   "cell_type": "code",
   "execution_count": 2,
   "metadata": {},
   "outputs": [],
   "source": [
    "solar_sales = pd.read_excel('sunsales_2014_2018.xls', sheet_name='Sheet1')"
   ]
  },
  {
   "cell_type": "code",
   "execution_count": 3,
   "metadata": {},
   "outputs": [
    {
     "data": {
      "text/html": [
       "<div>\n",
       "<style scoped>\n",
       "    .dataframe tbody tr th:only-of-type {\n",
       "        vertical-align: middle;\n",
       "    }\n",
       "\n",
       "    .dataframe tbody tr th {\n",
       "        vertical-align: top;\n",
       "    }\n",
       "\n",
       "    .dataframe thead th {\n",
       "        text-align: right;\n",
       "    }\n",
       "</style>\n",
       "<table border=\"1\" class=\"dataframe\">\n",
       "  <thead>\n",
       "    <tr style=\"text-align: right;\">\n",
       "      <th></th>\n",
       "      <th>Quote Number</th>\n",
       "      <th>End Customer</th>\n",
       "      <th>Product Hierarchy</th>\n",
       "      <th>Product Family</th>\n",
       "      <th>Geographic Region</th>\n",
       "      <th>Sold-to party</th>\n",
       "      <th>Distributor</th>\n",
       "      <th>Part Number</th>\n",
       "      <th>Quarter of Year</th>\n",
       "      <th>Month of Year</th>\n",
       "      <th>Net Inv QTY</th>\n",
       "      <th>Net Inv-$</th>\n",
       "    </tr>\n",
       "  </thead>\n",
       "  <tbody>\n",
       "    <tr>\n",
       "      <th>0</th>\n",
       "      <td>405011005</td>\n",
       "      <td>TTI ELECTRONICS ASIA PTE LTD.</td>\n",
       "      <td>PPF650NA09 ZZ</td>\n",
       "      <td>Midgit KLKD</td>\n",
       "      <td>ASIA</td>\n",
       "      <td>405011</td>\n",
       "      <td>TTI ELECTRONICS ASIA PTE LTD</td>\n",
       "      <td>KLKD.500T</td>\n",
       "      <td>20174</td>\n",
       "      <td>Period 11 2017</td>\n",
       "      <td>10.0</td>\n",
       "      <td>110.6</td>\n",
       "    </tr>\n",
       "    <tr>\n",
       "      <th>1</th>\n",
       "      <td>405011005</td>\n",
       "      <td>TTI ELECTRONICS ASIA PTE LTD.</td>\n",
       "      <td>PPF650NA09 ZZ</td>\n",
       "      <td>Midgit KLKD</td>\n",
       "      <td>ASIA</td>\n",
       "      <td>405011</td>\n",
       "      <td>TTI ELECTRONICS ASIA PTE LTD</td>\n",
       "      <td>KLKD.500T</td>\n",
       "      <td>20174</td>\n",
       "      <td>Period 12 2017</td>\n",
       "      <td>10.0</td>\n",
       "      <td>110.6</td>\n",
       "    </tr>\n",
       "    <tr>\n",
       "      <th>2</th>\n",
       "      <td>405011005</td>\n",
       "      <td>TTI ELECTRONICS ASIA PTE LTD.</td>\n",
       "      <td>PPF650NA09 ZZ</td>\n",
       "      <td>Midgit KLKD</td>\n",
       "      <td>ASIA</td>\n",
       "      <td>405011</td>\n",
       "      <td>TTI ELECTRONICS ASIA PTE LTD</td>\n",
       "      <td>KLKD.500T</td>\n",
       "      <td>20181</td>\n",
       "      <td>Period 01 2018</td>\n",
       "      <td>10.0</td>\n",
       "      <td>110.6</td>\n",
       "    </tr>\n",
       "  </tbody>\n",
       "</table>\n",
       "</div>"
      ],
      "text/plain": [
       "  Quote Number                   End Customer Product Hierarchy  \\\n",
       "0    405011005  TTI ELECTRONICS ASIA PTE LTD.     PPF650NA09 ZZ   \n",
       "1    405011005  TTI ELECTRONICS ASIA PTE LTD.     PPF650NA09 ZZ   \n",
       "2    405011005  TTI ELECTRONICS ASIA PTE LTD.     PPF650NA09 ZZ   \n",
       "\n",
       "  Product Family Geographic Region  Sold-to party  \\\n",
       "0    Midgit KLKD              ASIA         405011   \n",
       "1    Midgit KLKD              ASIA         405011   \n",
       "2    Midgit KLKD              ASIA         405011   \n",
       "\n",
       "                    Distributor Part Number  Quarter of Year   Month of Year  \\\n",
       "0  TTI ELECTRONICS ASIA PTE LTD   KLKD.500T            20174  Period 11 2017   \n",
       "1  TTI ELECTRONICS ASIA PTE LTD   KLKD.500T            20174  Period 12 2017   \n",
       "2  TTI ELECTRONICS ASIA PTE LTD   KLKD.500T            20181  Period 01 2018   \n",
       "\n",
       "   Net Inv QTY  Net Inv-$  \n",
       "0         10.0      110.6  \n",
       "1         10.0      110.6  \n",
       "2         10.0      110.6  "
      ]
     },
     "execution_count": 3,
     "metadata": {},
     "output_type": "execute_result"
    }
   ],
   "source": [
    "solar_sales.head(3)"
   ]
  },
  {
   "cell_type": "markdown",
   "metadata": {},
   "source": [
    "#### CLEANING UP THE DATA"
   ]
  },
  {
   "cell_type": "code",
   "execution_count": 4,
   "metadata": {},
   "outputs": [
    {
     "data": {
      "text/plain": [
       "Index(['Quote Number', 'End Customer', 'Product Hierarchy', 'Product Family',\n",
       "       'Geographic Region', 'Sold-to party', 'Distributor', 'Part Number',\n",
       "       'Quarter of Year', 'Month of Year', 'Net Inv QTY', 'Net Inv-$'],\n",
       "      dtype='object')"
      ]
     },
     "execution_count": 4,
     "metadata": {},
     "output_type": "execute_result"
    }
   ],
   "source": [
    "# CHECKING THE COLUMN NAMES\n",
    "solar_sales.columns"
   ]
  },
  {
   "cell_type": "code",
   "execution_count": 5,
   "metadata": {},
   "outputs": [],
   "source": [
    "# CHOOSING RELEVANT COLUMNS\n",
    "\n",
    "solsales = solar_sales.loc[:,['End Customer', 'Product Hierarchy', 'Product Family',\n",
    "       'Geographic Region', 'Sold-to party', 'Distributor', 'Part Number',\n",
    "       'Quarter of Year', 'Month of Year', 'Net Inv QTY', 'Net Inv-$']]\n"
   ]
  },
  {
   "cell_type": "code",
   "execution_count": 6,
   "metadata": {},
   "outputs": [],
   "source": [
    "# REFORMATING COLUMNS AND INSERTING NEW COLUMNS\n",
    "\n",
    "solsales.insert(loc=8, column='Month2', value = solsales['Month of Year'].str[7:].str.replace(' ','-'))"
   ]
  },
  {
   "cell_type": "code",
   "execution_count": 7,
   "metadata": {},
   "outputs": [],
   "source": [
    "# REFORMATING COLUMNS AND INSERTING NEW COLUMNS\n",
    "\n",
    "solsales.insert(loc=8, column='Quarter', value = 'Q'+ solsales['Quarter of Year'].astype(str).str[4])"
   ]
  },
  {
   "cell_type": "code",
   "execution_count": 8,
   "metadata": {
    "scrolled": true
   },
   "outputs": [],
   "source": [
    "# REFORMATING COLUMNS,INSERTING NEW COLUMNS AND DROPPING OTHERS\n",
    "\n",
    "solsales.insert(loc=8, column='Month', value = solsales['Month2'])\n",
    "solsales.drop(['Quarter of Year','Month of Year', 'month', 'Month2'], axis=1, errors='ignore', inplace = True)\n"
   ]
  },
  {
   "cell_type": "code",
   "execution_count": 9,
   "metadata": {},
   "outputs": [],
   "source": [
    "# Transforming month into datetime format\n",
    "solsales['Month'] = pd.to_datetime(solsales['Month'], format='%m-%Y')\n"
   ]
  },
  {
   "cell_type": "code",
   "execution_count": 10,
   "metadata": {},
   "outputs": [],
   "source": [
    "# REFORMATING COLUMNS,INSERTING MONTH AND YEAR\n",
    "\n",
    "solsales.insert(loc=8, column='Year', value = solsales['Month'].dt.year)\n",
    "solsales.insert(loc=8, column='Month2', value = solsales['Month'].dt.month)"
   ]
  },
  {
   "cell_type": "code",
   "execution_count": 11,
   "metadata": {},
   "outputs": [],
   "source": [
    "solsales.drop(['Month'], axis=1, errors='ignore', inplace = True)"
   ]
  },
  {
   "cell_type": "code",
   "execution_count": 12,
   "metadata": {},
   "outputs": [],
   "source": [
    "solsales.rename(columns={'Month2': 'Month'}, inplace= True)"
   ]
  },
  {
   "cell_type": "code",
   "execution_count": 13,
   "metadata": {},
   "outputs": [
    {
     "data": {
      "text/html": [
       "<div>\n",
       "<style scoped>\n",
       "    .dataframe tbody tr th:only-of-type {\n",
       "        vertical-align: middle;\n",
       "    }\n",
       "\n",
       "    .dataframe tbody tr th {\n",
       "        vertical-align: top;\n",
       "    }\n",
       "\n",
       "    .dataframe thead th {\n",
       "        text-align: right;\n",
       "    }\n",
       "</style>\n",
       "<table border=\"1\" class=\"dataframe\">\n",
       "  <thead>\n",
       "    <tr style=\"text-align: right;\">\n",
       "      <th></th>\n",
       "      <th>End Customer</th>\n",
       "      <th>Product Hierarchy</th>\n",
       "      <th>Product Family</th>\n",
       "      <th>Geographic Region</th>\n",
       "      <th>Sold-to party</th>\n",
       "      <th>Distributor</th>\n",
       "      <th>Part Number</th>\n",
       "      <th>Month</th>\n",
       "      <th>Year</th>\n",
       "      <th>Quarter</th>\n",
       "      <th>Net Inv QTY</th>\n",
       "      <th>Net Inv-$</th>\n",
       "    </tr>\n",
       "  </thead>\n",
       "  <tbody>\n",
       "    <tr>\n",
       "      <th>0</th>\n",
       "      <td>TTI ELECTRONICS ASIA PTE LTD.</td>\n",
       "      <td>PPF650NA09 ZZ</td>\n",
       "      <td>Midgit KLKD</td>\n",
       "      <td>ASIA</td>\n",
       "      <td>405011</td>\n",
       "      <td>TTI ELECTRONICS ASIA PTE LTD</td>\n",
       "      <td>KLKD.500T</td>\n",
       "      <td>11</td>\n",
       "      <td>2017</td>\n",
       "      <td>Q4</td>\n",
       "      <td>10.0</td>\n",
       "      <td>110.6</td>\n",
       "    </tr>\n",
       "    <tr>\n",
       "      <th>1</th>\n",
       "      <td>TTI ELECTRONICS ASIA PTE LTD.</td>\n",
       "      <td>PPF650NA09 ZZ</td>\n",
       "      <td>Midgit KLKD</td>\n",
       "      <td>ASIA</td>\n",
       "      <td>405011</td>\n",
       "      <td>TTI ELECTRONICS ASIA PTE LTD</td>\n",
       "      <td>KLKD.500T</td>\n",
       "      <td>12</td>\n",
       "      <td>2017</td>\n",
       "      <td>Q4</td>\n",
       "      <td>10.0</td>\n",
       "      <td>110.6</td>\n",
       "    </tr>\n",
       "  </tbody>\n",
       "</table>\n",
       "</div>"
      ],
      "text/plain": [
       "                    End Customer Product Hierarchy Product Family  \\\n",
       "0  TTI ELECTRONICS ASIA PTE LTD.     PPF650NA09 ZZ    Midgit KLKD   \n",
       "1  TTI ELECTRONICS ASIA PTE LTD.     PPF650NA09 ZZ    Midgit KLKD   \n",
       "\n",
       "  Geographic Region  Sold-to party                   Distributor Part Number  \\\n",
       "0              ASIA         405011  TTI ELECTRONICS ASIA PTE LTD   KLKD.500T   \n",
       "1              ASIA         405011  TTI ELECTRONICS ASIA PTE LTD   KLKD.500T   \n",
       "\n",
       "   Month  Year Quarter  Net Inv QTY  Net Inv-$  \n",
       "0     11  2017      Q4         10.0      110.6  \n",
       "1     12  2017      Q4         10.0      110.6  "
      ]
     },
     "execution_count": 13,
     "metadata": {},
     "output_type": "execute_result"
    }
   ],
   "source": [
    "solsales.head(2)"
   ]
  },
  {
   "cell_type": "code",
   "execution_count": 14,
   "metadata": {},
   "outputs": [
    {
     "name": "stdout",
     "output_type": "stream",
     "text": [
      "<class 'pandas.core.frame.DataFrame'>\n",
      "RangeIndex: 25511 entries, 0 to 25510\n",
      "Data columns (total 12 columns):\n",
      "End Customer         25511 non-null object\n",
      "Product Hierarchy    25511 non-null object\n",
      "Product Family       25511 non-null object\n",
      "Geographic Region    25511 non-null object\n",
      "Sold-to party        25511 non-null int64\n",
      "Distributor          25511 non-null object\n",
      "Part Number          25511 non-null object\n",
      "Month                25511 non-null int64\n",
      "Year                 25511 non-null int64\n",
      "Quarter              25511 non-null object\n",
      "Net Inv QTY          22087 non-null float64\n",
      "Net Inv-$            25511 non-null float64\n",
      "dtypes: float64(2), int64(3), object(7)\n",
      "memory usage: 2.3+ MB\n"
     ]
    }
   ],
   "source": [
    "# CHECKING THE DIFFERENT COLUMN ENTRIES. \n",
    "solsales.info()"
   ]
  },
  {
   "cell_type": "code",
   "execution_count": 15,
   "metadata": {},
   "outputs": [
    {
     "data": {
      "text/plain": [
       " 10.0     4587\n",
       "NaN       3424\n",
       " 20.0     2118\n",
       " 100.0    1617\n",
       " 30.0     1052\n",
       "Name: Net Inv QTY, dtype: int64"
      ]
     },
     "execution_count": 15,
     "metadata": {},
     "output_type": "execute_result"
    }
   ],
   "source": [
    "solsales['Net Inv QTY'].value_counts(dropna = False).head()"
   ]
  },
  {
   "cell_type": "markdown",
   "metadata": {},
   "source": [
    "#### ** FROM THE RESULT ABOVE IT INDICATES THERE ARE 3424 NAN VALUES IN THE QTY COLUMN **"
   ]
  },
  {
   "cell_type": "code",
   "execution_count": 16,
   "metadata": {},
   "outputs": [
    {
     "data": {
      "text/html": [
       "<div>\n",
       "<style scoped>\n",
       "    .dataframe tbody tr th:only-of-type {\n",
       "        vertical-align: middle;\n",
       "    }\n",
       "\n",
       "    .dataframe tbody tr th {\n",
       "        vertical-align: top;\n",
       "    }\n",
       "\n",
       "    .dataframe thead th {\n",
       "        text-align: right;\n",
       "    }\n",
       "</style>\n",
       "<table border=\"1\" class=\"dataframe\">\n",
       "  <thead>\n",
       "    <tr style=\"text-align: right;\">\n",
       "      <th></th>\n",
       "      <th>End Customer</th>\n",
       "      <th>Product Hierarchy</th>\n",
       "      <th>Product Family</th>\n",
       "      <th>Geographic Region</th>\n",
       "      <th>Sold-to party</th>\n",
       "      <th>Distributor</th>\n",
       "      <th>Part Number</th>\n",
       "      <th>Month</th>\n",
       "      <th>Year</th>\n",
       "      <th>Quarter</th>\n",
       "      <th>Net Inv QTY</th>\n",
       "      <th>Net Inv-$</th>\n",
       "    </tr>\n",
       "  </thead>\n",
       "  <tbody>\n",
       "    <tr>\n",
       "      <th>909</th>\n",
       "      <td>*BENCHMARK ELECTROMECHANICAL 2019</td>\n",
       "      <td>PPF650NA09 ZZ</td>\n",
       "      <td>Midgit KLKD</td>\n",
       "      <td>US/CAN</td>\n",
       "      <td>306110</td>\n",
       "      <td>ARROW PEMCO GROUP</td>\n",
       "      <td>KLKD020.T</td>\n",
       "      <td>4</td>\n",
       "      <td>2015</td>\n",
       "      <td>Q2</td>\n",
       "      <td>NaN</td>\n",
       "      <td>-4270.74</td>\n",
       "    </tr>\n",
       "    <tr>\n",
       "      <th>910</th>\n",
       "      <td>*SANMINA/ARROW YRLY 2013</td>\n",
       "      <td>PPF650NA09 ZZ</td>\n",
       "      <td>Midgit KLKD</td>\n",
       "      <td>US/CAN</td>\n",
       "      <td>306110</td>\n",
       "      <td>ARROW PEMCO GROUP</td>\n",
       "      <td>KLKD030.T</td>\n",
       "      <td>1</td>\n",
       "      <td>2014</td>\n",
       "      <td>Q1</td>\n",
       "      <td>NaN</td>\n",
       "      <td>-25086.51</td>\n",
       "    </tr>\n",
       "    <tr>\n",
       "      <th>911</th>\n",
       "      <td>*SANMINA/ARROW YRLY 2014</td>\n",
       "      <td>PPF650NA09 ZZ</td>\n",
       "      <td>Midgit KLKD</td>\n",
       "      <td>US/CAN</td>\n",
       "      <td>306110</td>\n",
       "      <td>ARROW PEMCO GROUP</td>\n",
       "      <td>KLKD030.T</td>\n",
       "      <td>3</td>\n",
       "      <td>2014</td>\n",
       "      <td>Q1</td>\n",
       "      <td>NaN</td>\n",
       "      <td>-2387.86</td>\n",
       "    </tr>\n",
       "  </tbody>\n",
       "</table>\n",
       "</div>"
      ],
      "text/plain": [
       "                          End Customer Product Hierarchy Product Family  \\\n",
       "909  *BENCHMARK ELECTROMECHANICAL 2019     PPF650NA09 ZZ    Midgit KLKD   \n",
       "910           *SANMINA/ARROW YRLY 2013     PPF650NA09 ZZ    Midgit KLKD   \n",
       "911           *SANMINA/ARROW YRLY 2014     PPF650NA09 ZZ    Midgit KLKD   \n",
       "\n",
       "    Geographic Region  Sold-to party        Distributor Part Number  Month  \\\n",
       "909            US/CAN         306110  ARROW PEMCO GROUP   KLKD020.T      4   \n",
       "910            US/CAN         306110  ARROW PEMCO GROUP   KLKD030.T      1   \n",
       "911            US/CAN         306110  ARROW PEMCO GROUP   KLKD030.T      3   \n",
       "\n",
       "     Year Quarter  Net Inv QTY  Net Inv-$  \n",
       "909  2015      Q2          NaN   -4270.74  \n",
       "910  2014      Q1          NaN  -25086.51  \n",
       "911  2014      Q1          NaN   -2387.86  "
      ]
     },
     "execution_count": 16,
     "metadata": {},
     "output_type": "execute_result"
    }
   ],
   "source": [
    "solsales[solsales['Net Inv QTY'].isnull()].head(3)"
   ]
  },
  {
   "cell_type": "markdown",
   "metadata": {},
   "source": [
    "** The NaN value fields all have corresponding negative sales dollars. This is due to ship and debit process with Distributors. We can safely delete all records with these NaN values as they are not relevant to our analysis **"
   ]
  },
  {
   "cell_type": "code",
   "execution_count": 17,
   "metadata": {},
   "outputs": [
    {
     "name": "stdout",
     "output_type": "stream",
     "text": [
      "<class 'pandas.core.frame.DataFrame'>\n",
      "Int64Index: 22087 entries, 0 to 25510\n",
      "Data columns (total 12 columns):\n",
      "End Customer         22087 non-null object\n",
      "Product Hierarchy    22087 non-null object\n",
      "Product Family       22087 non-null object\n",
      "Geographic Region    22087 non-null object\n",
      "Sold-to party        22087 non-null int64\n",
      "Distributor          22087 non-null object\n",
      "Part Number          22087 non-null object\n",
      "Month                22087 non-null int64\n",
      "Year                 22087 non-null int64\n",
      "Quarter              22087 non-null object\n",
      "Net Inv QTY          22087 non-null float64\n",
      "Net Inv-$            22087 non-null float64\n",
      "dtypes: float64(2), int64(3), object(7)\n",
      "memory usage: 2.2+ MB\n"
     ]
    },
    {
     "data": {
      "text/plain": [
       "10.0     4587\n",
       "20.0     2118\n",
       "100.0    1617\n",
       "30.0     1052\n",
       "50.0      949\n",
       "Name: Net Inv QTY, dtype: int64"
      ]
     },
     "execution_count": 17,
     "metadata": {},
     "output_type": "execute_result"
    }
   ],
   "source": [
    "# Checking that all the NaN records have been dropped.\n",
    "slr_sls = solsales.dropna()\n",
    "\n",
    "slr_sls.info()\n",
    "\n",
    "slr_sls['Net Inv QTY'].value_counts(dropna = False).head()"
   ]
  },
  {
   "cell_type": "markdown",
   "metadata": {},
   "source": [
    "#### Visual Analysis"
   ]
  },
  {
   "cell_type": "code",
   "execution_count": 18,
   "metadata": {},
   "outputs": [
    {
     "data": {
      "image/png": "[encoded data removed]",
      "text/plain": [
       "<matplotlib.figure.Figure at 0x111692748>"
      ]
     },
     "metadata": {},
     "output_type": "display_data"
    }
   ],
   "source": [
    "# Checking for any outliers\n",
    "slr_sls.plot(y='Net Inv QTY',kind = 'box'); plt.show()"
   ]
  },
  {
   "cell_type": "code",
   "execution_count": 19,
   "metadata": {},
   "outputs": [
    {
     "name": "stdout",
     "output_type": "stream",
     "text": [
      "<class 'pandas.core.frame.DataFrame'>\n",
      "Int64Index: 22087 entries, 0 to 25510\n",
      "Data columns (total 12 columns):\n",
      "End Customer         22087 non-null object\n",
      "Product Hierarchy    22087 non-null object\n",
      "Product Family       22087 non-null object\n",
      "Geographic Region    22087 non-null object\n",
      "Sold-to party        22087 non-null int64\n",
      "Distributor          22087 non-null object\n",
      "Part Number          22087 non-null object\n",
      "Month                22087 non-null int64\n",
      "Year                 22087 non-null int64\n",
      "Quarter              22087 non-null object\n",
      "Net Inv QTY          22087 non-null float64\n",
      "Net Inv-$            22087 non-null float64\n",
      "dtypes: float64(2), int64(3), object(7)\n",
      "memory usage: 2.2+ MB\n"
     ]
    }
   ],
   "source": [
    "# Checking for any duplicates\n",
    "slrsls_noduplicates = slr_sls.drop_duplicates()\n",
    "slrsls_noduplicates.info()"
   ]
  },
  {
   "cell_type": "code",
   "execution_count": 20,
   "metadata": {},
   "outputs": [
    {
     "data": {
      "text/html": [
       "<div>\n",
       "<style scoped>\n",
       "    .dataframe tbody tr th:only-of-type {\n",
       "        vertical-align: middle;\n",
       "    }\n",
       "\n",
       "    .dataframe tbody tr th {\n",
       "        vertical-align: top;\n",
       "    }\n",
       "\n",
       "    .dataframe thead th {\n",
       "        text-align: right;\n",
       "    }\n",
       "</style>\n",
       "<table border=\"1\" class=\"dataframe\">\n",
       "  <thead>\n",
       "    <tr style=\"text-align: right;\">\n",
       "      <th></th>\n",
       "      <th>End Customer</th>\n",
       "      <th>Product Hierarchy</th>\n",
       "      <th>Product Family</th>\n",
       "      <th>Geographic Region</th>\n",
       "      <th>Sold-to party</th>\n",
       "      <th>Distributor</th>\n",
       "      <th>Part Number</th>\n",
       "      <th>Month</th>\n",
       "      <th>Year</th>\n",
       "      <th>Quarter</th>\n",
       "      <th>Net Inv QTY</th>\n",
       "      <th>Net Inv-$</th>\n",
       "    </tr>\n",
       "  </thead>\n",
       "  <tbody>\n",
       "    <tr>\n",
       "      <th>0</th>\n",
       "      <td>TTI ELECTRONICS ASIA PTE LTD.</td>\n",
       "      <td>PPF650NA09 ZZ</td>\n",
       "      <td>Midgit KLKD</td>\n",
       "      <td>ASIA</td>\n",
       "      <td>405011</td>\n",
       "      <td>TTI ELECTRONICS ASIA PTE LTD</td>\n",
       "      <td>KLKD.500T</td>\n",
       "      <td>11</td>\n",
       "      <td>2017</td>\n",
       "      <td>Q4</td>\n",
       "      <td>10.0</td>\n",
       "      <td>110.6</td>\n",
       "    </tr>\n",
       "    <tr>\n",
       "      <th>1</th>\n",
       "      <td>TTI ELECTRONICS ASIA PTE LTD.</td>\n",
       "      <td>PPF650NA09 ZZ</td>\n",
       "      <td>Midgit KLKD</td>\n",
       "      <td>ASIA</td>\n",
       "      <td>405011</td>\n",
       "      <td>TTI ELECTRONICS ASIA PTE LTD</td>\n",
       "      <td>KLKD.500T</td>\n",
       "      <td>12</td>\n",
       "      <td>2017</td>\n",
       "      <td>Q4</td>\n",
       "      <td>10.0</td>\n",
       "      <td>110.6</td>\n",
       "    </tr>\n",
       "    <tr>\n",
       "      <th>2</th>\n",
       "      <td>TTI ELECTRONICS ASIA PTE LTD.</td>\n",
       "      <td>PPF650NA09 ZZ</td>\n",
       "      <td>Midgit KLKD</td>\n",
       "      <td>ASIA</td>\n",
       "      <td>405011</td>\n",
       "      <td>TTI ELECTRONICS ASIA PTE LTD</td>\n",
       "      <td>KLKD.500T</td>\n",
       "      <td>1</td>\n",
       "      <td>2018</td>\n",
       "      <td>Q1</td>\n",
       "      <td>10.0</td>\n",
       "      <td>110.6</td>\n",
       "    </tr>\n",
       "  </tbody>\n",
       "</table>\n",
       "</div>"
      ],
      "text/plain": [
       "                    End Customer Product Hierarchy Product Family  \\\n",
       "0  TTI ELECTRONICS ASIA PTE LTD.     PPF650NA09 ZZ    Midgit KLKD   \n",
       "1  TTI ELECTRONICS ASIA PTE LTD.     PPF650NA09 ZZ    Midgit KLKD   \n",
       "2  TTI ELECTRONICS ASIA PTE LTD.     PPF650NA09 ZZ    Midgit KLKD   \n",
       "\n",
       "  Geographic Region  Sold-to party                   Distributor Part Number  \\\n",
       "0              ASIA         405011  TTI ELECTRONICS ASIA PTE LTD   KLKD.500T   \n",
       "1              ASIA         405011  TTI ELECTRONICS ASIA PTE LTD   KLKD.500T   \n",
       "2              ASIA         405011  TTI ELECTRONICS ASIA PTE LTD   KLKD.500T   \n",
       "\n",
       "   Month  Year Quarter  Net Inv QTY  Net Inv-$  \n",
       "0     11  2017      Q4         10.0      110.6  \n",
       "1     12  2017      Q4         10.0      110.6  \n",
       "2      1  2018      Q1         10.0      110.6  "
      ]
     },
     "execution_count": 20,
     "metadata": {},
     "output_type": "execute_result"
    }
   ],
   "source": [
    "slrsls=slrsls_noduplicates\n",
    "slrsls.head(3)"
   ]
  },
  {
   "cell_type": "code",
   "execution_count": 21,
   "metadata": {},
   "outputs": [],
   "source": [
    "# Introducing average selling price (ASP) per SKU\n",
    "slrsls['ASP-$']=slrsls['Net Inv-$']/slrsls['Net Inv QTY']\n"
   ]
  },
  {
   "cell_type": "code",
   "execution_count": 22,
   "metadata": {},
   "outputs": [
    {
     "data": {
      "text/html": [
       "<div>\n",
       "<style scoped>\n",
       "    .dataframe tbody tr th:only-of-type {\n",
       "        vertical-align: middle;\n",
       "    }\n",
       "\n",
       "    .dataframe tbody tr th {\n",
       "        vertical-align: top;\n",
       "    }\n",
       "\n",
       "    .dataframe thead th {\n",
       "        text-align: right;\n",
       "    }\n",
       "</style>\n",
       "<table border=\"1\" class=\"dataframe\">\n",
       "  <thead>\n",
       "    <tr style=\"text-align: right;\">\n",
       "      <th></th>\n",
       "      <th>End Customer</th>\n",
       "      <th>Product Hierarchy</th>\n",
       "      <th>Product Family</th>\n",
       "      <th>Geographic Region</th>\n",
       "      <th>Sold-to party</th>\n",
       "      <th>Distributor</th>\n",
       "      <th>Part Number</th>\n",
       "      <th>Month</th>\n",
       "      <th>Year</th>\n",
       "      <th>Quarter</th>\n",
       "      <th>Net Inv QTY</th>\n",
       "      <th>Net Inv-$</th>\n",
       "      <th>ASP-$</th>\n",
       "    </tr>\n",
       "  </thead>\n",
       "  <tbody>\n",
       "    <tr>\n",
       "      <th>0</th>\n",
       "      <td>TTI ELECTRONICS ASIA PTE LTD.</td>\n",
       "      <td>PPF650NA09 ZZ</td>\n",
       "      <td>Midgit KLKD</td>\n",
       "      <td>ASIA</td>\n",
       "      <td>405011</td>\n",
       "      <td>TTI ELECTRONICS ASIA PTE LTD</td>\n",
       "      <td>KLKD.500T</td>\n",
       "      <td>11</td>\n",
       "      <td>2017</td>\n",
       "      <td>Q4</td>\n",
       "      <td>10.0</td>\n",
       "      <td>110.6</td>\n",
       "      <td>11.06</td>\n",
       "    </tr>\n",
       "    <tr>\n",
       "      <th>1</th>\n",
       "      <td>TTI ELECTRONICS ASIA PTE LTD.</td>\n",
       "      <td>PPF650NA09 ZZ</td>\n",
       "      <td>Midgit KLKD</td>\n",
       "      <td>ASIA</td>\n",
       "      <td>405011</td>\n",
       "      <td>TTI ELECTRONICS ASIA PTE LTD</td>\n",
       "      <td>KLKD.500T</td>\n",
       "      <td>12</td>\n",
       "      <td>2017</td>\n",
       "      <td>Q4</td>\n",
       "      <td>10.0</td>\n",
       "      <td>110.6</td>\n",
       "      <td>11.06</td>\n",
       "    </tr>\n",
       "    <tr>\n",
       "      <th>2</th>\n",
       "      <td>TTI ELECTRONICS ASIA PTE LTD.</td>\n",
       "      <td>PPF650NA09 ZZ</td>\n",
       "      <td>Midgit KLKD</td>\n",
       "      <td>ASIA</td>\n",
       "      <td>405011</td>\n",
       "      <td>TTI ELECTRONICS ASIA PTE LTD</td>\n",
       "      <td>KLKD.500T</td>\n",
       "      <td>1</td>\n",
       "      <td>2018</td>\n",
       "      <td>Q1</td>\n",
       "      <td>10.0</td>\n",
       "      <td>110.6</td>\n",
       "      <td>11.06</td>\n",
       "    </tr>\n",
       "  </tbody>\n",
       "</table>\n",
       "</div>"
      ],
      "text/plain": [
       "                    End Customer Product Hierarchy Product Family  \\\n",
       "0  TTI ELECTRONICS ASIA PTE LTD.     PPF650NA09 ZZ    Midgit KLKD   \n",
       "1  TTI ELECTRONICS ASIA PTE LTD.     PPF650NA09 ZZ    Midgit KLKD   \n",
       "2  TTI ELECTRONICS ASIA PTE LTD.     PPF650NA09 ZZ    Midgit KLKD   \n",
       "\n",
       "  Geographic Region  Sold-to party                   Distributor Part Number  \\\n",
       "0              ASIA         405011  TTI ELECTRONICS ASIA PTE LTD   KLKD.500T   \n",
       "1              ASIA         405011  TTI ELECTRONICS ASIA PTE LTD   KLKD.500T   \n",
       "2              ASIA         405011  TTI ELECTRONICS ASIA PTE LTD   KLKD.500T   \n",
       "\n",
       "   Month  Year Quarter  Net Inv QTY  Net Inv-$  ASP-$  \n",
       "0     11  2017      Q4         10.0      110.6  11.06  \n",
       "1     12  2017      Q4         10.0      110.6  11.06  \n",
       "2      1  2018      Q1         10.0      110.6  11.06  "
      ]
     },
     "execution_count": 22,
     "metadata": {},
     "output_type": "execute_result"
    }
   ],
   "source": [
    "slrsls.head(3)"
   ]
  },
  {
   "cell_type": "code",
   "execution_count": 23,
   "metadata": {},
   "outputs": [
    {
     "data": {
      "text/plain": [
       "array(['ASIA', 'EMEA', 'US/CAN', 'LATAM'], dtype=object)"
      ]
     },
     "execution_count": 23,
     "metadata": {},
     "output_type": "execute_result"
    }
   ],
   "source": [
    "slrsls['Geographic Region'].unique()"
   ]
  },
  {
   "cell_type": "code",
   "execution_count": 24,
   "metadata": {},
   "outputs": [
    {
     "data": {
      "text/html": [
       "<div>\n",
       "<style scoped>\n",
       "    .dataframe tbody tr th:only-of-type {\n",
       "        vertical-align: middle;\n",
       "    }\n",
       "\n",
       "    .dataframe tbody tr th {\n",
       "        vertical-align: top;\n",
       "    }\n",
       "\n",
       "    .dataframe thead th {\n",
       "        text-align: right;\n",
       "    }\n",
       "</style>\n",
       "<table border=\"1\" class=\"dataframe\">\n",
       "  <thead>\n",
       "    <tr style=\"text-align: right;\">\n",
       "      <th></th>\n",
       "      <th>Quote Number</th>\n",
       "      <th>End Customer</th>\n",
       "      <th>Product Hierarchy</th>\n",
       "      <th>Product Family</th>\n",
       "      <th>Geographic Region</th>\n",
       "      <th>Sold-to party</th>\n",
       "      <th>Distributor</th>\n",
       "      <th>Part Number</th>\n",
       "      <th>Quarter of Year</th>\n",
       "      <th>Month of Year</th>\n",
       "      <th>Net Inv QTY</th>\n",
       "      <th>Net Inv-$</th>\n",
       "    </tr>\n",
       "  </thead>\n",
       "  <tbody>\n",
       "    <tr>\n",
       "      <th>0</th>\n",
       "      <td>405011005</td>\n",
       "      <td>TTI ELECTRONICS ASIA PTE LTD.</td>\n",
       "      <td>PPF650NA09 ZZ</td>\n",
       "      <td>Midgit KLKD</td>\n",
       "      <td>ASIA</td>\n",
       "      <td>405011</td>\n",
       "      <td>TTI ELECTRONICS ASIA PTE LTD</td>\n",
       "      <td>KLKD.500T</td>\n",
       "      <td>20174</td>\n",
       "      <td>Period 11 2017</td>\n",
       "      <td>10.0</td>\n",
       "      <td>110.6</td>\n",
       "    </tr>\n",
       "    <tr>\n",
       "      <th>1</th>\n",
       "      <td>405011005</td>\n",
       "      <td>TTI ELECTRONICS ASIA PTE LTD.</td>\n",
       "      <td>PPF650NA09 ZZ</td>\n",
       "      <td>Midgit KLKD</td>\n",
       "      <td>ASIA</td>\n",
       "      <td>405011</td>\n",
       "      <td>TTI ELECTRONICS ASIA PTE LTD</td>\n",
       "      <td>KLKD.500T</td>\n",
       "      <td>20174</td>\n",
       "      <td>Period 12 2017</td>\n",
       "      <td>10.0</td>\n",
       "      <td>110.6</td>\n",
       "    </tr>\n",
       "    <tr>\n",
       "      <th>2</th>\n",
       "      <td>405011005</td>\n",
       "      <td>TTI ELECTRONICS ASIA PTE LTD.</td>\n",
       "      <td>PPF650NA09 ZZ</td>\n",
       "      <td>Midgit KLKD</td>\n",
       "      <td>ASIA</td>\n",
       "      <td>405011</td>\n",
       "      <td>TTI ELECTRONICS ASIA PTE LTD</td>\n",
       "      <td>KLKD.500T</td>\n",
       "      <td>20181</td>\n",
       "      <td>Period 01 2018</td>\n",
       "      <td>10.0</td>\n",
       "      <td>110.6</td>\n",
       "    </tr>\n",
       "  </tbody>\n",
       "</table>\n",
       "</div>"
      ],
      "text/plain": [
       "  Quote Number                   End Customer Product Hierarchy  \\\n",
       "0    405011005  TTI ELECTRONICS ASIA PTE LTD.     PPF650NA09 ZZ   \n",
       "1    405011005  TTI ELECTRONICS ASIA PTE LTD.     PPF650NA09 ZZ   \n",
       "2    405011005  TTI ELECTRONICS ASIA PTE LTD.     PPF650NA09 ZZ   \n",
       "\n",
       "  Product Family Geographic Region  Sold-to party  \\\n",
       "0    Midgit KLKD              ASIA         405011   \n",
       "1    Midgit KLKD              ASIA         405011   \n",
       "2    Midgit KLKD              ASIA         405011   \n",
       "\n",
       "                    Distributor Part Number  Quarter of Year   Month of Year  \\\n",
       "0  TTI ELECTRONICS ASIA PTE LTD   KLKD.500T            20174  Period 11 2017   \n",
       "1  TTI ELECTRONICS ASIA PTE LTD   KLKD.500T            20174  Period 12 2017   \n",
       "2  TTI ELECTRONICS ASIA PTE LTD   KLKD.500T            20181  Period 01 2018   \n",
       "\n",
       "   Net Inv QTY  Net Inv-$  \n",
       "0         10.0      110.6  \n",
       "1         10.0      110.6  \n",
       "2         10.0      110.6  "
      ]
     },
     "execution_count": 24,
     "metadata": {},
     "output_type": "execute_result"
    }
   ],
   "source": [
    "solar_sales.head(3)"
   ]
  },
  {
   "cell_type": "code",
   "execution_count": 25,
   "metadata": {},
   "outputs": [],
   "source": [
    "ss_monthly = solar_sales.loc[:,['End Customer', 'Product Family',\n",
    "       'Geographic Region', 'Distributor', 'Part Number',\n",
    "       'Quarter of Year', 'Month of Year', 'Net Inv QTY', 'Net Inv-$']]\n",
    "\n",
    "ss_monthly.insert(loc=6, column='Month2', value = ss_monthly['Month of Year'].str[7:].str.replace(' ','-'))\n",
    "ss_monthly['Month'] = pd.to_datetime(ss_monthly['Month2'], format='%m-%Y')\n",
    "ss_monthly.insert(loc=6, column='Quarter', value = 'Q'+ ss_monthly['Quarter of Year'].astype(str).str[4])\n",
    "ss_monthly.drop(['Quarter of Year','Month of Year', 'Month2'], axis=1, errors='ignore', inplace = True)\n",
    "ss_monthly.rename(columns={'Month': 'Date'}, inplace= True)\n",
    "ss_monthly = ss_monthly.dropna()"
   ]
  },
  {
   "cell_type": "code",
   "execution_count": 26,
   "metadata": {},
   "outputs": [
    {
     "name": "stdout",
     "output_type": "stream",
     "text": [
      "<class 'pandas.core.frame.DataFrame'>\n",
      "Int64Index: 22087 entries, 0 to 25510\n",
      "Data columns (total 9 columns):\n",
      "End Customer         22087 non-null object\n",
      "Product Family       22087 non-null object\n",
      "Geographic Region    22087 non-null object\n",
      "Distributor          22087 non-null object\n",
      "Part Number          22087 non-null object\n",
      "Quarter              22087 non-null object\n",
      "Net Inv QTY          22087 non-null float64\n",
      "Net Inv-$            22087 non-null float64\n",
      "Date                 22087 non-null datetime64[ns]\n",
      "dtypes: datetime64[ns](1), float64(2), object(6)\n",
      "memory usage: 1.7+ MB\n"
     ]
    }
   ],
   "source": [
    "ss_monthly.info()"
   ]
  },
  {
   "cell_type": "code",
   "execution_count": 27,
   "metadata": {},
   "outputs": [],
   "source": [
    "ss_sls = ss_monthly.set_index('Date').sort_index()"
   ]
  },
  {
   "cell_type": "code",
   "execution_count": 28,
   "metadata": {},
   "outputs": [
    {
     "data": {
      "text/html": [
       "<div>\n",
       "<style scoped>\n",
       "    .dataframe tbody tr th:only-of-type {\n",
       "        vertical-align: middle;\n",
       "    }\n",
       "\n",
       "    .dataframe tbody tr th {\n",
       "        vertical-align: top;\n",
       "    }\n",
       "\n",
       "    .dataframe thead th {\n",
       "        text-align: right;\n",
       "    }\n",
       "</style>\n",
       "<table border=\"1\" class=\"dataframe\">\n",
       "  <thead>\n",
       "    <tr style=\"text-align: right;\">\n",
       "      <th></th>\n",
       "      <th>End Customer</th>\n",
       "      <th>Product Family</th>\n",
       "      <th>Geographic Region</th>\n",
       "      <th>Distributor</th>\n",
       "      <th>Part Number</th>\n",
       "      <th>Quarter</th>\n",
       "      <th>Net Inv QTY</th>\n",
       "      <th>Net Inv-$</th>\n",
       "    </tr>\n",
       "    <tr>\n",
       "      <th>Date</th>\n",
       "      <th></th>\n",
       "      <th></th>\n",
       "      <th></th>\n",
       "      <th></th>\n",
       "      <th></th>\n",
       "      <th></th>\n",
       "      <th></th>\n",
       "      <th></th>\n",
       "    </tr>\n",
       "  </thead>\n",
       "  <tbody>\n",
       "    <tr>\n",
       "      <th>2014-01-01</th>\n",
       "      <td>VAN METER INDUSTRIAL</td>\n",
       "      <td>LPHV and LFPHV FHolder</td>\n",
       "      <td>US/CAN</td>\n",
       "      <td>VAN METER INDUSTRIAL</td>\n",
       "      <td>LFPHV0001ZXID</td>\n",
       "      <td>Q1</td>\n",
       "      <td>24.0</td>\n",
       "      <td>380.40</td>\n",
       "    </tr>\n",
       "    <tr>\n",
       "      <th>2014-01-01</th>\n",
       "      <td>ELETTRO ITALIA SRL</td>\n",
       "      <td>Midgit SPF</td>\n",
       "      <td>EMEA</td>\n",
       "      <td>ELETTRO ITALIA SRL</td>\n",
       "      <td>0SPF012.T</td>\n",
       "      <td>Q1</td>\n",
       "      <td>70.0</td>\n",
       "      <td>75.42</td>\n",
       "    </tr>\n",
       "  </tbody>\n",
       "</table>\n",
       "</div>"
      ],
      "text/plain": [
       "                    End Customer          Product Family Geographic Region  \\\n",
       "Date                                                                         \n",
       "2014-01-01  VAN METER INDUSTRIAL  LPHV and LFPHV FHolder            US/CAN   \n",
       "2014-01-01    ELETTRO ITALIA SRL              Midgit SPF              EMEA   \n",
       "\n",
       "                     Distributor    Part Number Quarter  Net Inv QTY  \\\n",
       "Date                                                                   \n",
       "2014-01-01  VAN METER INDUSTRIAL  LFPHV0001ZXID      Q1         24.0   \n",
       "2014-01-01    ELETTRO ITALIA SRL      0SPF012.T      Q1         70.0   \n",
       "\n",
       "            Net Inv-$  \n",
       "Date                   \n",
       "2014-01-01     380.40  \n",
       "2014-01-01      75.42  "
      ]
     },
     "execution_count": 28,
     "metadata": {},
     "output_type": "execute_result"
    }
   ],
   "source": [
    "ss_sls['2014-01':'2014-12'].head(2)\n"
   ]
  },
  {
   "cell_type": "code",
   "execution_count": 29,
   "metadata": {},
   "outputs": [
    {
     "data": {
      "text/html": [
       "<div>\n",
       "<style scoped>\n",
       "    .dataframe tbody tr th:only-of-type {\n",
       "        vertical-align: middle;\n",
       "    }\n",
       "\n",
       "    .dataframe tbody tr th {\n",
       "        vertical-align: top;\n",
       "    }\n",
       "\n",
       "    .dataframe thead th {\n",
       "        text-align: right;\n",
       "    }\n",
       "</style>\n",
       "<table border=\"1\" class=\"dataframe\">\n",
       "  <thead>\n",
       "    <tr style=\"text-align: right;\">\n",
       "      <th></th>\n",
       "      <th>End Customer</th>\n",
       "      <th>Product Family</th>\n",
       "      <th>Geographic Region</th>\n",
       "      <th>Distributor</th>\n",
       "      <th>Part Number</th>\n",
       "      <th>Quarter</th>\n",
       "      <th>Net Inv QTY</th>\n",
       "      <th>Net Inv-$</th>\n",
       "    </tr>\n",
       "    <tr>\n",
       "      <th>Date</th>\n",
       "      <th></th>\n",
       "      <th></th>\n",
       "      <th></th>\n",
       "      <th></th>\n",
       "      <th></th>\n",
       "      <th></th>\n",
       "      <th></th>\n",
       "      <th></th>\n",
       "    </tr>\n",
       "  </thead>\n",
       "  <tbody>\n",
       "    <tr>\n",
       "      <th>2014-03-01</th>\n",
       "      <td>PLATT ELECTRIC SUPPLY-HUB</td>\n",
       "      <td>Midgit KLKD</td>\n",
       "      <td>US/CAN</td>\n",
       "      <td>PLATT ELECTRIC SUPPLY-HUB</td>\n",
       "      <td>KLKD002.T</td>\n",
       "      <td>Q1</td>\n",
       "      <td>10.0</td>\n",
       "      <td>81.0</td>\n",
       "    </tr>\n",
       "    <tr>\n",
       "      <th>2014-03-01</th>\n",
       "      <td>LE CHAMP (SEA) PTE LTD</td>\n",
       "      <td>Midgit KLKD</td>\n",
       "      <td>ASIA</td>\n",
       "      <td>LE CHAMP (SEA) PTE LTD</td>\n",
       "      <td>KLKD025.HXR</td>\n",
       "      <td>Q1</td>\n",
       "      <td>5.0</td>\n",
       "      <td>0.0</td>\n",
       "    </tr>\n",
       "    <tr>\n",
       "      <th>2014-03-01</th>\n",
       "      <td>MAYER ELECTRIC-EAST-NORCROSS HUB</td>\n",
       "      <td>Midgit KLKD</td>\n",
       "      <td>US/CAN</td>\n",
       "      <td>MAYER ELECTRIC-EAST-NORCROSS HUB</td>\n",
       "      <td>KLKD008.T</td>\n",
       "      <td>Q1</td>\n",
       "      <td>20.0</td>\n",
       "      <td>121.5</td>\n",
       "    </tr>\n",
       "  </tbody>\n",
       "</table>\n",
       "</div>"
      ],
      "text/plain": [
       "                                End Customer Product Family Geographic Region  \\\n",
       "Date                                                                            \n",
       "2014-03-01         PLATT ELECTRIC SUPPLY-HUB    Midgit KLKD            US/CAN   \n",
       "2014-03-01            LE CHAMP (SEA) PTE LTD    Midgit KLKD              ASIA   \n",
       "2014-03-01  MAYER ELECTRIC-EAST-NORCROSS HUB    Midgit KLKD            US/CAN   \n",
       "\n",
       "                                 Distributor  Part Number Quarter  \\\n",
       "Date                                                                \n",
       "2014-03-01         PLATT ELECTRIC SUPPLY-HUB    KLKD002.T      Q1   \n",
       "2014-03-01            LE CHAMP (SEA) PTE LTD  KLKD025.HXR      Q1   \n",
       "2014-03-01  MAYER ELECTRIC-EAST-NORCROSS HUB    KLKD008.T      Q1   \n",
       "\n",
       "            Net Inv QTY  Net Inv-$  \n",
       "Date                                \n",
       "2014-03-01         10.0       81.0  \n",
       "2014-03-01          5.0        0.0  \n",
       "2014-03-01         20.0      121.5  "
      ]
     },
     "execution_count": 29,
     "metadata": {},
     "output_type": "execute_result"
    }
   ],
   "source": [
    "ss_sls['2014Q1'].tail(3)"
   ]
  },
  {
   "cell_type": "markdown",
   "metadata": {},
   "source": [
    "### 1. Can you count something interesting"
   ]
  },
  {
   "cell_type": "code",
   "execution_count": 30,
   "metadata": {},
   "outputs": [
    {
     "name": "stdout",
     "output_type": "stream",
     "text": [
      "There are 317 part numbers sold\n",
      "\n",
      "************************************* Most sold SKU by year *****************************************\n",
      "\n",
      "In  2014 the highest selling part number was 0SPF015.T and it sold 721113.0 units\n",
      "In  2015 the highest selling part number was 0SPF015.T and it sold 988279.0 units\n",
      "In  2016 the highest selling part number was 0SPF015.T and it sold 915765.0 units\n",
      "In  2017 the highest selling part number was 0SPF015.T and it sold 912861.0 units\n",
      "In  2018 the highest selling part number was 0SPF015.T and it sold 938301.0 units\n",
      "\n",
      "************************************* Highest grossing SKU by year *****************************************\n",
      "\n",
      "In  2014 the highest grossing part number was KLKD030.T and it sold $ 1129823.29\n",
      "In  2015 the highest grossing part number was SPXI004.L and it sold $ 2019981.4\n",
      "In  2016 the highest grossing part number was KLKD030.T and it sold $ 873808.32\n",
      "In  2017 the highest grossing part number was KLKD030.T and it sold $ 873379.94\n",
      "In  2018 the highest grossing part number was SPXV030.L and it sold $ 872112.24\n"
     ]
    }
   ],
   "source": [
    "# Counting the total number of SKUs and determining the most sold SKU by year.\n",
    "\n",
    "print('There are',len(ss_sls['Part Number'].unique()), 'part numbers sold')\n",
    "\n",
    "\n",
    "# Determine the highest sold SKU per year\n",
    "\n",
    "print('\\n************************************* Most sold SKU by year *****************************************\\n')\n",
    "\n",
    "\n",
    "pnum_high = slr_sls.pivot_table(index='Year', columns='Part Number', values='Net Inv QTY', aggfunc='sum')\n",
    "pnum_dollars = slr_sls.pivot_table(index='Year', columns='Part Number', values='Net Inv-$', aggfunc='sum')\n",
    "\n",
    "# Function to select the highest selling SKU\n",
    "\n",
    "def highestsold(dframe):\n",
    "    part_num = []\n",
    "    for i in dframe.index:\n",
    "        temp_dict = {}\n",
    "        maxval = 0\n",
    "        for j in dframe.columns:\n",
    "                if dframe[j][i] > maxval:\n",
    "                    maxval = dframe[j][i]\n",
    "                    temp_dict[i] = (j, maxval)\n",
    "        part_num.append(temp_dict)\n",
    "    return part_num\n",
    "\n",
    "\n",
    "pnum=highestsold(pnum_high)\n",
    "pnumdols=highestsold(pnum_dollars)\n",
    "            \n",
    "for u in pnum:\n",
    "    for i, j in u.items():\n",
    "        a, b = j\n",
    "        print('In ',i, 'the highest selling part number was',a,'and it sold',b,'units')\n",
    "\n",
    "\n",
    "    \n",
    "print('\\n************************************* Highest grossing SKU by year *****************************************\\n')\n",
    "\n",
    "    \n",
    "for u in pnumdols:\n",
    "    for i, j in u.items():\n",
    "        a, b = j\n",
    "        print('In ',i, 'the highest grossing part number was',a,'and it sold $',round(b,2))   \n",
    "    "
   ]
  },
  {
   "cell_type": "markdown",
   "metadata": {},
   "source": [
    "#### 2. Can you find trends (e.g. high, low, increasing, decreasing, anomalies)?"
   ]
  },
  {
   "cell_type": "markdown",
   "metadata": {},
   "source": [
    "**SKU Analysis and Trends:**\n",
    "\n",
    "Though the same part number sold the highest number of units for all five years, it did not feature as the top grossing part number in any of the five years implying its price is relatively lower than the top grossing part numbers\n",
    "\n",
    "**Regional Trends From the bar plot below**\n",
    "\n",
    "Overall 2015 was one of the best years for all the regions and 2016 was a tough year for \n",
    "North America and Asia have been the strongest markets while EMEA is seeing a steady decline since 2015. The Asia market has been growing steadily and is on track to be about par with the NA market."
   ]
  },
  {
   "cell_type": "markdown",
   "metadata": {},
   "source": [
    "#### 3. Can you make a bar plot or a histogram?\n",
    "\n"
   ]
  },
  {
   "cell_type": "code",
   "execution_count": 31,
   "metadata": {},
   "outputs": [
    {
     "data": {
      "image/png": "[encoded data removed]",
      "text/plain": [
       "<matplotlib.figure.Figure at 0x1117e41d0>"
      ]
     },
     "metadata": {},
     "output_type": "display_data"
    },
    {
     "data": {
      "image/png": "[encoded data removed]",
      "text/plain": [
       "<matplotlib.figure.Figure at 0x1118cb6a0>"
      ]
     },
     "metadata": {},
     "output_type": "display_data"
    },
    {
     "data": {
      "image/png": "[encoded data removed]",
      "text/plain": [
       "<matplotlib.figure.Figure at 0x110d70208>"
      ]
     },
     "metadata": {},
     "output_type": "display_data"
    },
    {
     "data": {
      "image/png": "[encoded data removed]",
      "text/plain": [
       "<matplotlib.figure.Figure at 0x116181a90>"
      ]
     },
     "metadata": {},
     "output_type": "display_data"
    }
   ],
   "source": [
    "# VISUALIZING THE TOTAL SALES $$ BY QUARTER BY REGION\n",
    "\n",
    "# plt.subplot(2,2,1)\n",
    "slrsls_asia = slrsls[slrsls['Geographic Region']== 'ASIA'].groupby(['Year','Quarter'])['Net Inv QTY', 'Net Inv-$'].agg({'Net Inv QTY':'sum', 'Net Inv-$':'sum'}).head(20)\n",
    "slrsls_asia['Net Inv-$'].unstack().plot(kind='bar', title = 'Sales dollars Asia')\n",
    "plt.show()\n",
    "\n",
    "# plt.subplot(2,2,2)\n",
    "slrsls_NA = slrsls[slrsls['Geographic Region']== 'US/CAN'].groupby(['Year','Quarter'])['Net Inv QTY', 'Net Inv-$'].agg({'Net Inv QTY':'sum', 'Net Inv-$':'sum'}).head(20)\n",
    "slrsls_NA['Net Inv-$'].unstack().plot(kind='bar',title = 'Sales dollars North America')\n",
    "plt.show()\n",
    "\n",
    "# plt.subplot(2,2,3)\n",
    "slrsls_NA = slrsls[slrsls['Geographic Region']== 'EMEA'].groupby(['Year','Quarter'])['Net Inv QTY', 'Net Inv-$'].agg({'Net Inv QTY':'sum', 'Net Inv-$':'sum'}).head(20)\n",
    "slrsls_NA['Net Inv-$'].unstack().plot(kind='bar',title = 'Sales dollars EMEA')\n",
    "plt.show()\n",
    "\n",
    "# plt.subplot(2,2,4)\n",
    "slrsls_NA = slrsls[slrsls['Geographic Region']== 'LATAM'].groupby(['Year','Quarter'])['Net Inv QTY', 'Net Inv-$'].agg({'Net Inv QTY':'sum', 'Net Inv-$':'sum'}).head(20)\n",
    "slrsls_NA['Net Inv-$'].unstack().plot(kind='bar',title = 'Sales dollars Latin America')\n",
    "plt.show()"
   ]
  },
  {
   "cell_type": "code",
   "execution_count": 32,
   "metadata": {},
   "outputs": [
    {
     "data": {
      "image/png": "[encoded data removed]",
      "text/plain": [
       "<matplotlib.figure.Figure at 0x1108de7f0>"
      ]
     },
     "metadata": {},
     "output_type": "display_data"
    },
    {
     "data": {
      "image/png": "[encoded data removed]",
      "text/plain": [
       "<matplotlib.figure.Figure at 0x110dc1278>"
      ]
     },
     "metadata": {},
     "output_type": "display_data"
    },
    {
     "data": {
      "image/png": "[encoded data removed]",
      "text/plain": [
       "<matplotlib.figure.Figure at 0x110c7f550>"
      ]
     },
     "metadata": {},
     "output_type": "display_data"
    },
    {
     "data": {
      "image/png": "[encoded data removed]",
      "text/plain": [
       "<matplotlib.figure.Figure at 0x110a7e048>"
      ]
     },
     "metadata": {},
     "output_type": "display_data"
    }
   ],
   "source": [
    "# VISUALIZING THE TOTAL NUMBER OF SKUs SOLD BY QUARTER BY REGION\n",
    "\n",
    "# plt.subplot(2,2,1)\n",
    "slrsls_asia = slrsls[slrsls['Geographic Region']== 'ASIA'].groupby(['Year','Quarter'])['Net Inv QTY', 'Net Inv-$'].agg({'Net Inv QTY':'sum', 'Net Inv-$':'sum'}).head(20)\n",
    "slrsls_asia['Net Inv QTY'].unstack().plot(kind='bar', title = 'Sales Qty Asia')\n",
    "plt.show()\n",
    "\n",
    "# plt.subplot(2,2,2)\n",
    "slrsls_NA = slrsls[slrsls['Geographic Region']== 'US/CAN'].groupby(['Year','Quarter'])['Net Inv QTY', 'Net Inv-$'].agg({'Net Inv QTY':'sum', 'Net Inv-$':'sum'}).head(20)\n",
    "slrsls_NA['Net Inv QTY'].unstack().plot(kind='bar',title = 'Sales Qty North America')\n",
    "plt.show()\n",
    "\n",
    "# plt.subplot(2,2,3)\n",
    "slrsls_NA = slrsls[slrsls['Geographic Region']== 'EMEA'].groupby(['Year','Quarter'])['Net Inv QTY', 'Net Inv-$'].agg({'Net Inv QTY':'sum', 'Net Inv-$':'sum'}).head(20)\n",
    "slrsls_NA['Net Inv QTY'].unstack().plot(kind='bar',title = 'Sales Qty EMEA')\n",
    "plt.show()\n",
    "\n",
    "# plt.subplot(2,2,4)\n",
    "slrsls_NA = slrsls[slrsls['Geographic Region']== 'LATAM'].groupby(['Year','Quarter'])['Net Inv QTY', 'Net Inv-$'].agg({'Net Inv QTY':'sum', 'Net Inv-$':'sum'}).head(20)\n",
    "slrsls_NA['Net Inv QTY'].unstack().plot(kind='bar',title = 'Sales Qty Latin America')\n",
    "plt.show()"
   ]
  },
  {
   "cell_type": "markdown",
   "metadata": {},
   "source": [
    "#### 4. Can you compare two related quantities?\n",
    "\n",
    "Comparing the average selling price by Product Family over 5 years."
   ]
  },
  {
   "cell_type": "code",
   "execution_count": 33,
   "metadata": {},
   "outputs": [
    {
     "name": "stdout",
     "output_type": "stream",
     "text": [
      "<class 'pandas.core.frame.DataFrame'>\n",
      "Int64Index: 22087 entries, 0 to 25510\n",
      "Data columns (total 13 columns):\n",
      "End Customer         22087 non-null object\n",
      "Product Hierarchy    22087 non-null object\n",
      "Product Family       22087 non-null object\n",
      "Geographic Region    22087 non-null object\n",
      "Sold-to party        22087 non-null int64\n",
      "Distributor          22087 non-null object\n",
      "Part Number          22087 non-null object\n",
      "Month                22087 non-null int64\n",
      "Year                 22087 non-null int64\n",
      "Quarter              22087 non-null object\n",
      "Net Inv QTY          22087 non-null float64\n",
      "Net Inv-$            22087 non-null float64\n",
      "ASP-$                22087 non-null float64\n",
      "dtypes: float64(3), int64(3), object(7)\n",
      "memory usage: 2.4+ MB\n",
      "<class 'pandas.core.frame.DataFrame'>\n",
      "Int64Index: 1620 entries, 452 to 25510\n",
      "Data columns (total 13 columns):\n",
      "End Customer         1620 non-null object\n",
      "Product Hierarchy    1620 non-null object\n",
      "Product Family       1620 non-null object\n",
      "Geographic Region    1620 non-null object\n",
      "Sold-to party        1620 non-null int64\n",
      "Distributor          1620 non-null object\n",
      "Part Number          1620 non-null object\n",
      "Month                1620 non-null int64\n",
      "Year                 1620 non-null int64\n",
      "Quarter              1620 non-null object\n",
      "Net Inv QTY          1620 non-null float64\n",
      "Net Inv-$            1620 non-null float64\n",
      "ASP-$                1620 non-null float64\n",
      "dtypes: float64(3), int64(3), object(7)\n",
      "memory usage: 177.2+ KB\n"
     ]
    }
   ],
   "source": [
    "# Determine if there are any columns with zeros Qty or zero dollars.\n",
    "slrsls.info()\n",
    "slrsls[(slrsls[['Net Inv QTY','Net Inv-$']]==0).any(axis=1)].info()"
   ]
  },
  {
   "cell_type": "code",
   "execution_count": 34,
   "metadata": {},
   "outputs": [
    {
     "name": "stdout",
     "output_type": "stream",
     "text": [
      "<class 'pandas.core.frame.DataFrame'>\n",
      "Int64Index: 20467 entries, 0 to 25491\n",
      "Data columns (total 13 columns):\n",
      "End Customer         20467 non-null object\n",
      "Product Hierarchy    20467 non-null object\n",
      "Product Family       20467 non-null object\n",
      "Geographic Region    20467 non-null object\n",
      "Sold-to party        20467 non-null int64\n",
      "Distributor          20467 non-null object\n",
      "Part Number          20467 non-null object\n",
      "Month                20467 non-null int64\n",
      "Year                 20467 non-null int64\n",
      "Quarter              20467 non-null object\n",
      "Net Inv QTY          20467 non-null float64\n",
      "Net Inv-$            20467 non-null float64\n",
      "ASP-$                20467 non-null float64\n",
      "dtypes: float64(3), int64(3), object(7)\n",
      "memory usage: 2.2+ MB\n"
     ]
    }
   ],
   "source": [
    "# Selecting on the the non-zero rows\n",
    "slrprice = slrsls[(slrsls['Net Inv QTY']!=0) & (slrsls['Net Inv-$']!=0)]\n",
    "slrprice.info()"
   ]
  },
  {
   "cell_type": "code",
   "execution_count": 35,
   "metadata": {},
   "outputs": [
    {
     "data": {
      "image/png": "[encoded data removed]",
      "text/plain": [
       "<matplotlib.figure.Figure at 0x1117e7320>"
      ]
     },
     "metadata": {},
     "output_type": "display_data"
    },
    {
     "data": {
      "image/png": "[encoded data removed]",
      "text/plain": [
       "<matplotlib.figure.Figure at 0x110ccd908>"
      ]
     },
     "metadata": {},
     "output_type": "display_data"
    }
   ],
   "source": [
    "# Plotting the average selling price of product families over 5 years.\n",
    "\n",
    "slrprice.groupby(['Year','Product Family'])['ASP-$'].mean().plot(kind='bar')\n",
    "plt.show()\n",
    "\n",
    "slrprice.groupby(['Year','Product Family'])['ASP-$'].mean().plot()\n",
    "plt.show()"
   ]
  },
  {
   "cell_type": "markdown",
   "metadata": {},
   "source": [
    "#### 5. Can you make a scatterplot?"
   ]
  },
  {
   "cell_type": "code",
   "execution_count": 36,
   "metadata": {},
   "outputs": [
    {
     "data": {
      "image/png": "[encoded data removed]",
      "text/plain": [
       "<matplotlib.figure.Figure at 0x111814b70>"
      ]
     },
     "metadata": {},
     "output_type": "display_data"
    }
   ],
   "source": [
    "# Scatter Plot of Qty vs Dollars\n",
    "slrprice.plot(kind='scatter', x='Net Inv-$', y='Net Inv QTY')\n",
    "plt.show()"
   ]
  },
  {
   "cell_type": "code",
   "execution_count": null,
   "metadata": {},
   "outputs": [],
   "source": []
  },
  {
   "cell_type": "code",
   "execution_count": null,
   "metadata": {},
   "outputs": [],
   "source": []
  },
  {
   "cell_type": "markdown",
   "metadata": {},
   "source": [
    "#### 6. Can you make a time-series plot?\n",
    "Time plot of Sales Qty vs Dollars over a period of 5 years"
   ]
  },
  {
   "cell_type": "code",
   "execution_count": 37,
   "metadata": {},
   "outputs": [],
   "source": [
    "ss_totglob = ss_sls.groupby('Date')['Net Inv QTY', 'Net Inv-$'].sum()"
   ]
  },
  {
   "cell_type": "code",
   "execution_count": 38,
   "metadata": {},
   "outputs": [
    {
     "data": {
      "image/png": "[encoded data removed]",
      "text/plain": [
       "<matplotlib.figure.Figure at 0x110551470>"
      ]
     },
     "metadata": {},
     "output_type": "display_data"
    }
   ],
   "source": [
    "\n",
    "ss_totglob['2014':'2018'].plot(title='Global Sales Dollars vs Qty'); plt.show()\n",
    "\n"
   ]
  },
  {
   "cell_type": "code",
   "execution_count": null,
   "metadata": {},
   "outputs": [],
   "source": []
  },
  {
   "cell_type": "code",
   "execution_count": null,
   "metadata": {},
   "outputs": [],
   "source": []
  }
 ],
 "metadata": {
  "kernelspec": {
   "display_name": "Python 3",
   "language": "python",
   "name": "python3"
  },
  "language_info": {
   "codemirror_mode": {
    "name": "ipython",
    "version": 3
   },
   "file_extension": ".py",
   "mimetype": "text/x-python",
   "name": "python",
   "nbconvert_exporter": "python",
   "pygments_lexer": "ipython3",
   "version": "3.7.3"
  }
 },
 "nbformat": 4,
 "nbformat_minor": 2
}
