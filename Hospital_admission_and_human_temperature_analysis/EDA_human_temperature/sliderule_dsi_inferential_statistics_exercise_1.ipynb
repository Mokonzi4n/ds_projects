{
 "cells": [
  {
   "cell_type": "markdown",
   "metadata": {},
   "source": [
    "# What is the True Normal Human Body Temperature? \n",
    "\n",
    "#### Background\n",
    "\n",
    "The mean normal body temperature was held to be 37$^{\\circ}$C or 98.6$^{\\circ}$F for more than 120 years since it was first conceptualized and reported by Carl Wunderlich in a famous 1868 book. But, is this value statistically correct?"
   ]
  },
  {
   "cell_type": "markdown",
   "metadata": {},
   "source": [
    "<h3>Exercises</h3>\n",
    "\n",
    "<p>In this exercise, you will analyze a dataset of human body temperatures and employ the concepts of hypothesis testing, confidence intervals, and statistical significance.</p>\n",
    "\n",
    "<p>Answer the following questions <b>in this notebook below and submit to your Github account</b>.</p> \n",
    "\n",
    "<ol>\n",
    "<li>  Is the distribution of body temperatures normal? \n",
    "    <ul>\n",
    "    <li> Although this is not a requirement for the Central Limit Theorem to hold (read the introduction on Wikipedia's page about the CLT carefully: https://en.wikipedia.org/wiki/Central_limit_theorem), it gives us some peace of mind that the population may also be normally distributed if we assume that this sample is representative of the population.\n",
    "    <li> Think about the way you're going to check for the normality of the distribution. Graphical methods are usually used first, but there are also other ways: https://en.wikipedia.org/wiki/Normality_test\n",
    "    </ul>\n",
    "<li>  Is the sample size large? Are the observations independent?\n",
    "    <ul>\n",
    "    <li> Remember that this is a condition for the Central Limit Theorem, and hence the statistical tests we are using, to apply.\n",
    "    </ul>\n",
    "<li>  Is the true population mean really 98.6 degrees F?\n",
    "    <ul>\n",
    "    <li> First, try a bootstrap hypothesis test.\n",
    "    <li> Now, let's try frequentist statistical testing. Would you use a one-sample or two-sample test? Why?\n",
    "    <li> In this situation, is it appropriate to use the $t$ or $z$ statistic? \n",
    "    <li> Now try using the other test. How is the result be different? Why?\n",
    "    </ul>\n",
    "<li>  Draw a small sample of size 10 from the data and repeat both frequentist tests. \n",
    "    <ul>\n",
    "    <li> Which one is the correct one to use? \n",
    "    <li> What do you notice? What does this tell you about the difference in application of the $t$ and $z$ statistic?\n",
    "    </ul>\n",
    "<li>  At what temperature should we consider someone's temperature to be \"abnormal\"?\n",
    "    <ul>\n",
    "    <li> As in the previous example, try calculating everything using the boostrap approach, as well as the frequentist approach.\n",
    "    <li> Start by computing the margin of error and confidence interval. When calculating the confidence interval, keep in mind that you should use the appropriate formula for one draw, and not N draws.\n",
    "    </ul>\n",
    "<li>  Is there a significant difference between males and females in normal temperature?\n",
    "    <ul>\n",
    "    <li> What testing approach did you use and why?\n",
    "    <li> Write a story with your conclusion in the context of the original problem.\n",
    "    </ul>\n",
    "</ol>\n",
    "\n",
    "You can include written notes in notebook cells using Markdown: \n",
    "   - In the control panel at the top, choose Cell > Cell Type > Markdown\n",
    "   - Markdown syntax: http://nestacms.com/docs/creating-content/markdown-cheat-sheet\n",
    "\n",
    "#### Resources\n",
    "\n",
    "+ Information and data sources: http://www.amstat.org/publications/jse/datasets/normtemp.txt, http://www.amstat.org/publications/jse/jse_data_archive.htm\n",
    "+ Markdown syntax: http://nestacms.com/docs/creating-content/markdown-cheat-sheet\n",
    "\n",
    "****"
   ]
  },
  {
   "cell_type": "code",
   "execution_count": 11,
   "metadata": {},
   "outputs": [],
   "source": [
    "# Import the different libraries\n",
    "\n",
    "import pandas as pd\n",
    "import matplotlib.pyplot as plt\n",
    "import numpy as np\n",
    "import seaborn as sns\n",
    "from statsmodels.graphics.gofplots import qqplot\n",
    "import scipy.stats as st"
   ]
  },
  {
   "cell_type": "code",
   "execution_count": 12,
   "metadata": {},
   "outputs": [],
   "source": [
    "# Import dataset into dataframe\n",
    "df = pd.read_csv('data/human_body_temperature.csv')\n",
    "sns.set()"
   ]
  },
  {
   "cell_type": "markdown",
   "metadata": {},
   "source": [
    "### 1. Is the distribution of body temperatures normal?"
   ]
  },
  {
   "cell_type": "code",
   "execution_count": 13,
   "metadata": {},
   "outputs": [
    {
     "name": "stdout",
     "output_type": "stream",
     "text": [
      "<class 'pandas.core.frame.DataFrame'>\n",
      "RangeIndex: 130 entries, 0 to 129\n",
      "Data columns (total 3 columns):\n",
      "temperature    130 non-null float64\n",
      "gender         130 non-null object\n",
      "heart_rate     130 non-null float64\n",
      "dtypes: float64(2), object(1)\n",
      "memory usage: 3.1+ KB\n"
     ]
    },
    {
     "data": {
      "text/html": [
       "<div>\n",
       "<style scoped>\n",
       "    .dataframe tbody tr th:only-of-type {\n",
       "        vertical-align: middle;\n",
       "    }\n",
       "\n",
       "    .dataframe tbody tr th {\n",
       "        vertical-align: top;\n",
       "    }\n",
       "\n",
       "    .dataframe thead th {\n",
       "        text-align: right;\n",
       "    }\n",
       "</style>\n",
       "<table border=\"1\" class=\"dataframe\">\n",
       "  <thead>\n",
       "    <tr style=\"text-align: right;\">\n",
       "      <th></th>\n",
       "      <th>temperature</th>\n",
       "      <th>heart_rate</th>\n",
       "    </tr>\n",
       "  </thead>\n",
       "  <tbody>\n",
       "    <tr>\n",
       "      <th>count</th>\n",
       "      <td>130.000000</td>\n",
       "      <td>130.000000</td>\n",
       "    </tr>\n",
       "    <tr>\n",
       "      <th>mean</th>\n",
       "      <td>98.249231</td>\n",
       "      <td>73.761538</td>\n",
       "    </tr>\n",
       "    <tr>\n",
       "      <th>std</th>\n",
       "      <td>0.733183</td>\n",
       "      <td>7.062077</td>\n",
       "    </tr>\n",
       "    <tr>\n",
       "      <th>min</th>\n",
       "      <td>96.300000</td>\n",
       "      <td>57.000000</td>\n",
       "    </tr>\n",
       "    <tr>\n",
       "      <th>25%</th>\n",
       "      <td>97.800000</td>\n",
       "      <td>69.000000</td>\n",
       "    </tr>\n",
       "    <tr>\n",
       "      <th>50%</th>\n",
       "      <td>98.300000</td>\n",
       "      <td>74.000000</td>\n",
       "    </tr>\n",
       "    <tr>\n",
       "      <th>75%</th>\n",
       "      <td>98.700000</td>\n",
       "      <td>79.000000</td>\n",
       "    </tr>\n",
       "    <tr>\n",
       "      <th>max</th>\n",
       "      <td>100.800000</td>\n",
       "      <td>89.000000</td>\n",
       "    </tr>\n",
       "  </tbody>\n",
       "</table>\n",
       "</div>"
      ],
      "text/plain": [
       "       temperature  heart_rate\n",
       "count   130.000000  130.000000\n",
       "mean     98.249231   73.761538\n",
       "std       0.733183    7.062077\n",
       "min      96.300000   57.000000\n",
       "25%      97.800000   69.000000\n",
       "50%      98.300000   74.000000\n",
       "75%      98.700000   79.000000\n",
       "max     100.800000   89.000000"
      ]
     },
     "execution_count": 13,
     "metadata": {},
     "output_type": "execute_result"
    }
   ],
   "source": [
    "# Checking data for any nulls\n",
    "df.info()\n",
    "df.describe()\n"
   ]
  },
  {
   "cell_type": "code",
   "execution_count": 14,
   "metadata": {},
   "outputs": [
    {
     "data": {
      "text/html": [
       "<div>\n",
       "<style scoped>\n",
       "    .dataframe tbody tr th:only-of-type {\n",
       "        vertical-align: middle;\n",
       "    }\n",
       "\n",
       "    .dataframe tbody tr th {\n",
       "        vertical-align: top;\n",
       "    }\n",
       "\n",
       "    .dataframe thead th {\n",
       "        text-align: right;\n",
       "    }\n",
       "</style>\n",
       "<table border=\"1\" class=\"dataframe\">\n",
       "  <thead>\n",
       "    <tr style=\"text-align: right;\">\n",
       "      <th></th>\n",
       "      <th>temperature</th>\n",
       "      <th>gender</th>\n",
       "      <th>heart_rate</th>\n",
       "    </tr>\n",
       "  </thead>\n",
       "  <tbody>\n",
       "    <tr>\n",
       "      <th>0</th>\n",
       "      <td>99.3</td>\n",
       "      <td>F</td>\n",
       "      <td>68.0</td>\n",
       "    </tr>\n",
       "    <tr>\n",
       "      <th>1</th>\n",
       "      <td>98.4</td>\n",
       "      <td>F</td>\n",
       "      <td>81.0</td>\n",
       "    </tr>\n",
       "    <tr>\n",
       "      <th>2</th>\n",
       "      <td>97.8</td>\n",
       "      <td>M</td>\n",
       "      <td>73.0</td>\n",
       "    </tr>\n",
       "    <tr>\n",
       "      <th>3</th>\n",
       "      <td>99.2</td>\n",
       "      <td>F</td>\n",
       "      <td>66.0</td>\n",
       "    </tr>\n",
       "    <tr>\n",
       "      <th>4</th>\n",
       "      <td>98.0</td>\n",
       "      <td>F</td>\n",
       "      <td>73.0</td>\n",
       "    </tr>\n",
       "    <tr>\n",
       "      <th>5</th>\n",
       "      <td>99.2</td>\n",
       "      <td>M</td>\n",
       "      <td>83.0</td>\n",
       "    </tr>\n",
       "    <tr>\n",
       "      <th>6</th>\n",
       "      <td>98.0</td>\n",
       "      <td>M</td>\n",
       "      <td>71.0</td>\n",
       "    </tr>\n",
       "    <tr>\n",
       "      <th>7</th>\n",
       "      <td>98.8</td>\n",
       "      <td>M</td>\n",
       "      <td>78.0</td>\n",
       "    </tr>\n",
       "    <tr>\n",
       "      <th>8</th>\n",
       "      <td>98.4</td>\n",
       "      <td>F</td>\n",
       "      <td>84.0</td>\n",
       "    </tr>\n",
       "    <tr>\n",
       "      <th>9</th>\n",
       "      <td>98.6</td>\n",
       "      <td>F</td>\n",
       "      <td>86.0</td>\n",
       "    </tr>\n",
       "  </tbody>\n",
       "</table>\n",
       "</div>"
      ],
      "text/plain": [
       "   temperature gender  heart_rate\n",
       "0         99.3      F        68.0\n",
       "1         98.4      F        81.0\n",
       "2         97.8      M        73.0\n",
       "3         99.2      F        66.0\n",
       "4         98.0      F        73.0\n",
       "5         99.2      M        83.0\n",
       "6         98.0      M        71.0\n",
       "7         98.8      M        78.0\n",
       "8         98.4      F        84.0\n",
       "9         98.6      F        86.0"
      ]
     },
     "execution_count": 14,
     "metadata": {},
     "output_type": "execute_result"
    }
   ],
   "source": [
    "df.head(10)"
   ]
  },
  {
   "cell_type": "code",
   "execution_count": 15,
   "metadata": {},
   "outputs": [
    {
     "data": {
      "image/png": "[encoded data removed]",
      "text/plain": [
       "<matplotlib.figure.Figure at 0x117f21710>"
      ]
     },
     "metadata": {},
     "output_type": "display_data"
    }
   ],
   "source": [
    "# GRAPHICAL REPRESENTATION OF THE DATA\n",
    "\n",
    "# Determining bin size\n",
    "bin_num = int(np.sqrt(len(df.temperature)))\n",
    "\n",
    "# Extracting the mean and standard deviation from the temperature distribution:\n",
    "mu, std = st.norm.fit(df.temperature)\n",
    "\n",
    "# Plot the histogram.\n",
    "plt.hist(df.temperature, bins=bin_num, density=True)\n",
    "\n",
    "# Plot the PDF.\n",
    "xmin, xmax = plt.xlim()\n",
    "x = np.linspace(xmin, xmax, 100)\n",
    "p = st.norm.pdf(x, mu, std)\n",
    "plt.plot(x, p, 'r', linewidth=2)\n",
    "title = \"Fitting Normal Distribution on Body Temperature Distribution\"\n",
    "plt.title(title)\n",
    "\n",
    "plt.show()"
   ]
  },
  {
   "cell_type": "markdown",
   "metadata": {},
   "source": [
    "**The data is looking to be approximately normally distributed. To further confirm this, we use the Q-Q plot function.**"
   ]
  },
  {
   "cell_type": "code",
   "execution_count": 16,
   "metadata": {},
   "outputs": [
    {
     "data": {
      "image/png": "[encoded data removed]",
      "text/plain": [
       "<matplotlib.figure.Figure at 0x117e93860>"
      ]
     },
     "metadata": {},
     "output_type": "display_data"
    }
   ],
   "source": [
    "# Using the Q-Qplot to test for normality\n",
    "\n",
    "qqplot(df.temperature, line = 's')\n",
    "plt.show()"
   ]
  },
  {
   "cell_type": "markdown",
   "metadata": {},
   "source": [
    "We see that the data points from the temperature distribution closely fit the normal distribution line.\n",
    "hence we can conclude that the temperature distribution is normal"
   ]
  },
  {
   "cell_type": "markdown",
   "metadata": {},
   "source": [
    "### 2. Is the sample size large? Are the observations independent?"
   ]
  },
  {
   "cell_type": "markdown",
   "metadata": {},
   "source": [
    "From the Central Limit theorem the sample size **n** is considered large enough if **n >= 30**"
   ]
  },
  {
   "cell_type": "code",
   "execution_count": 17,
   "metadata": {},
   "outputs": [
    {
     "name": "stdout",
     "output_type": "stream",
     "text": [
      "The sample size is large enough as the sample size, 130 is >= 30\n"
     ]
    }
   ],
   "source": [
    "# determine sample size\n",
    "\n",
    "sample_size = len(df.temperature)\n",
    "\n",
    "if sample_size >= 30:\n",
    "    print('The sample size is large enough as the sample size,',sample_size,'is >= 30')\n",
    "else:\n",
    "    print('The sample size is not large enough')"
   ]
  },
  {
   "cell_type": "markdown",
   "metadata": {},
   "source": [
    "**Are the observations independent?**"
   ]
  },
  {
   "cell_type": "markdown",
   "metadata": {},
   "source": [
    "The Observations can be assumed independent based on the following considerations:\n",
    "\n",
    "1.) The body temperature of one person does not depend on that of another.\n",
    "\n",
    "2.) 130 samples is < 10% of the human population."
   ]
  },
  {
   "cell_type": "markdown",
   "metadata": {},
   "source": [
    "### 3. Is the true population mean really 98.6 degrees F?"
   ]
  },
  {
   "cell_type": "markdown",
   "metadata": {},
   "source": [
    " H0 : The true population mean is mu = 98.6ºF\n",
    " \n",
    " Ha : The true population mean is mu ≠ 98.6ºF"
   ]
  },
  {
   "cell_type": "code",
   "execution_count": 18,
   "metadata": {},
   "outputs": [
    {
     "name": "stdout",
     "output_type": "stream",
     "text": [
      "The p-value is: 0.0. We reject the null hypothesis \"H0 : The true population mean mu = 98.6ºF\" and suggest the alternate \"Ha : The true population mean mu ≠ 98.6ºF\"\n"
     ]
    }
   ],
   "source": [
    "np.random.seed(42)\n",
    "alpha = 0.05\n",
    "\n",
    "def bootstrap_replicate_1d(data, func):\n",
    "    \"\"\"Creating a bootstrap replicate (a statistic computed from a bootstrap sample)\"\"\"\n",
    "    #creating a bootstrap sample (a resampled array of the data)\n",
    "    bs_sample = np.random.choice(data,size=len(data))\n",
    "    bs_replicate = func(bs_sample)\n",
    "    \n",
    "    return bs_replicate\n",
    "\n",
    "\n",
    "def draw_bs_rep(data, func, size=1):\n",
    "    \"\"\"Draw bootstrap replicates\"\"\"\n",
    "    #initialize array of replicates\n",
    "    btstrp_reps = np.empty(size)\n",
    "    \n",
    "    #Generate replicates\n",
    "    for i in range(size):\n",
    "        btstrp_reps[i] = bootstrap_replicate_1d(data,func)\n",
    "        \n",
    "    return btstrp_reps\n",
    "\n",
    "#make an array of translated body temperatures assuming H0 is True i.e mu = 98.6\n",
    "\n",
    "translt_bt = df.temperature - np.mean(df.temperature) + 98.6\n",
    "\n",
    "# Draw bootstrap 10000 mean replicates of the data\n",
    "trans_bs_replicates = draw_bs_rep(translt_bt, np.mean, 10000)\n",
    "\n",
    "p = np.sum(trans_bs_replicates <= np.mean(df.temperature))/len(trans_bs_replicates)\n",
    "\n",
    "if p < alpha :\n",
    "    print(f'The p-value is: {p}. We reject the null hypothesis \"H0 : The true population mean mu = 98.6ºF\" and suggest the alternate \"Ha : The true population mean mu ≠ 98.6ºF\"')\n",
    "else:\n",
    "    print(f'The p-value is: {p}.We fail to reject the null hypothesis. There is a likelihood that the True population body temperature is 98.6ºF')"
   ]
  },
  {
   "cell_type": "markdown",
   "metadata": {},
   "source": [
    "**Now, let's try frequentist statistical testing. Would you use a one-sample or two-sample test? Why?**"
   ]
  },
  {
   "cell_type": "markdown",
   "metadata": {},
   "source": [
    "I would use a one sample test because I am not comparing two sets of data but one set of data to a single number"
   ]
  },
  {
   "cell_type": "markdown",
   "metadata": {},
   "source": [
    "**In this situation, is it appropriate to use the  t\n",
    "  or  z\n",
    "  statistic?**"
   ]
  },
  {
   "cell_type": "markdown",
   "metadata": {},
   "source": [
    "It is appropriate to use both but more so the t-statistic because we do not know the population standard deviation. we are comparing the means of observations from which we could calculate the sample standard deviation and approximate it to be equal to the population standard deviation.\n",
    "\n",
    "At the same time we can use the z-statistic because the sample size n > 30.\n",
    "\n"
   ]
  },
  {
   "cell_type": "code",
   "execution_count": 19,
   "metadata": {},
   "outputs": [
    {
     "name": "stdout",
     "output_type": "stream",
     "text": [
      "t = -5.475925202078116\n",
      "p = 2.1887464624095175e-07\n",
      "Using scipy we have t-statistic = -5.4548232923645195 and p-value = 2.4106320415561276e-07\n"
     ]
    }
   ],
   "source": [
    "# Calculating t-statistic.\n",
    "\n",
    "n = len(df.temperature)  # sample size\n",
    "mu_zero = 98.6  # null-hypothesis of body temperature means\n",
    "mu_smpl = np.mean(df.temperature)\n",
    "std_smpl = np.std(df.temperature)\n",
    "\n",
    "t_stat = (mu_smpl - mu_zero)/(std_smpl/np.sqrt(n))\n",
    "\n",
    "\n",
    "dgofrdm = n - 1\n",
    "pval = st.t.cdf(t_stat, dgofrdm)\n",
    "\n",
    "print(\"t = \" + str(t_stat))\n",
    "print(\"p = \" + str(2*pval)) #  multiply by 2 to get a two tailed test since the alternate hypothesis suggests mean could be higher or lower\n",
    "\n",
    "#Checking using Scipy built-in ttest function.\n",
    "\n",
    "t_stat_val, p_val = st.ttest_1samp(df.temperature,mu_zero)\n",
    "\n",
    "print ('Using scipy we have t-statistic =',t_stat_val, 'and p-value =',p_val)"
   ]
  },
  {
   "cell_type": "markdown",
   "metadata": {},
   "source": [
    "** Now try using the other test. How is the result be different? Why?**"
   ]
  },
  {
   "cell_type": "code",
   "execution_count": 20,
   "metadata": {},
   "outputs": [
    {
     "name": "stdout",
     "output_type": "stream",
     "text": [
      "z = -5.475925202078116\n",
      "p = 4.3523151658821886e-08\n"
     ]
    }
   ],
   "source": [
    "# Calculating p-value using Z-statistic.\n",
    "z_stat = t_stat\n",
    "\n",
    "p_valz = st.norm.cdf(z_stat)\n",
    "\n",
    "print(\"z =\" ,z_stat)\n",
    "print(\"p =\" ,2*p_valz)\n"
   ]
  },
  {
   "cell_type": "markdown",
   "metadata": {},
   "source": [
    "p << 0.05 hence we reject the null hypothesis and suggest the alternate as earlier shown using the bootstrap hypothesis.\n",
    "\n",
    "The p-value of the t-test is greater than that of the z-test but both < alpha (significance level)"
   ]
  },
  {
   "cell_type": "markdown",
   "metadata": {},
   "source": [
    "### 4. Draw a small sample of size 10 from the data and repeat both frequentist tests."
   ]
  },
  {
   "cell_type": "code",
   "execution_count": 39,
   "metadata": {},
   "outputs": [
    {
     "name": "stdout",
     "output_type": "stream",
     "text": [
      "t-statistic from 10 samples =  -2.7122426283849705\n",
      "z-statistic from 10 samples = -2.7122426283849705\n",
      "p-value from using t-statistic of 10 samples  0.023909543245508223\n",
      "p-value from using z-statistic of 10 samples = 0.006682965631600596\n"
     ]
    }
   ],
   "source": [
    "# Drawing 10 samples from population using bootstrapping.\n",
    "\n",
    "bs_bodytemp = np.random.choice(df.temperature,size=10)\n",
    "\n",
    "nt = len(bs_bodytemp)\n",
    "mu_nt = np.mean(bs_bodytemp)\n",
    "std_nt = np.std(bs_bodytemp)\n",
    "\n",
    "# T-statistic\n",
    "\n",
    "t_stat_10 = (mu_nt - mu_zero)/(std_nt/np.sqrt(nt))\n",
    "\n",
    "dgof = nt - 1\n",
    "pval_10t = st.t.cdf(t_stat_10, dgof)\n",
    "\n",
    "# z-statistic\n",
    "\n",
    "z_stat_10 = t_stat_10\n",
    "\n",
    "p_valz_10 = st.norm.cdf(z_stat_10)\n",
    "\n",
    "print(\"t-statistic from 10 samples = \" ,t_stat_10)\n",
    "print(\"z-statistic from 10 samples =\" ,z_stat_10)\n",
    "print(\"p-value from using t-statistic of 10 samples \", 2*pval_10t)\n",
    "print(\"p-value from using z-statistic of 10 samples =\" ,2*p_valz_10)\n"
   ]
  },
  {
   "cell_type": "markdown",
   "metadata": {},
   "source": [
    "The t-statistic is the better one to use because the sample size is small < 30.\n",
    "\n",
    "z-statistic is a lot smaller than the t-statistic. Depending on the significance level chosen both will lead to completely different conclusions"
   ]
  },
  {
   "cell_type": "markdown",
   "metadata": {},
   "source": [
    "### 5. At what temperature should we consider someone's temperature to be \"abnormal\"?"
   ]
  },
  {
   "cell_type": "markdown",
   "metadata": {},
   "source": [
    "** Using Bootstrapping **"
   ]
  },
  {
   "cell_type": "code",
   "execution_count": 22,
   "metadata": {},
   "outputs": [
    {
     "name": "stdout",
     "output_type": "stream",
     "text": [
      "We have 95% confidence that the observed mean values of the population lie between 98.12307692307692 and 98.3746153846154\n"
     ]
    }
   ],
   "source": [
    "# Consider the bootstrap samples\n",
    "bt_bs_replicates = draw_bs_rep(df.temperature,np.mean,10000)\n",
    "\n",
    "conf_int = np.percentile(bt_bs_replicates, [2.5, 97.5])\n",
    "\n",
    "print('We have 95% confidence that the observed mean values of the population lie between', conf_int[0],'and',conf_int[1])"
   ]
  },
  {
   "cell_type": "markdown",
   "metadata": {},
   "source": [
    "Body temperatures > 98.38ºF should be considered abnormal."
   ]
  },
  {
   "cell_type": "markdown",
   "metadata": {},
   "source": [
    "**Using Frequentist method**"
   ]
  },
  {
   "cell_type": "code",
   "execution_count": 23,
   "metadata": {},
   "outputs": [
    {
     "name": "stdout",
     "output_type": "stream",
     "text": [
      "The confidence interval about the Body temperature mean lies between 97.89846153846153 and 98.59999999999997\n"
     ]
    }
   ],
   "source": [
    "# using a t-statistic implies mu±Margin of error(ME). ME is t*SE (standard error)\n",
    "\n",
    "conf_int_up = mu + abs(t_stat)*(std_smpl/np.sqrt(len(df.temperature)))\n",
    "conf_int_lo = mu - abs(t_stat)*(std_smpl/np.sqrt(len(df.temperature)))\n",
    "\n",
    "print('The confidence interval about the Body temperature mean lies between', conf_int_lo,'and',conf_int_up)"
   ]
  },
  {
   "cell_type": "markdown",
   "metadata": {},
   "source": [
    "### 6. Is there a significant difference between males and females in normal temperature?"
   ]
  },
  {
   "cell_type": "code",
   "execution_count": 24,
   "metadata": {},
   "outputs": [
    {
     "name": "stdout",
     "output_type": "stream",
     "text": [
      "<class 'pandas.core.frame.DataFrame'>\n",
      "RangeIndex: 130 entries, 0 to 129\n",
      "Data columns (total 3 columns):\n",
      "temperature    130 non-null float64\n",
      "gender         130 non-null category\n",
      "heart_rate     130 non-null float64\n",
      "dtypes: category(1), float64(2)\n",
      "memory usage: 2.3 KB\n"
     ]
    }
   ],
   "source": [
    "df.gender = df.gender.astype('category')\n",
    "df.info()"
   ]
  },
  {
   "cell_type": "code",
   "execution_count": 25,
   "metadata": {},
   "outputs": [
    {
     "data": {
      "image/png": "[encoded data removed]",
      "text/plain": [
       "<matplotlib.figure.Figure at 0x117f8fc18>"
      ]
     },
     "metadata": {},
     "output_type": "display_data"
    }
   ],
   "source": [
    "sns.swarmplot(x='gender', y='temperature', data = df)\n",
    "plt.show()"
   ]
  },
  {
   "cell_type": "code",
   "execution_count": 26,
   "metadata": {},
   "outputs": [
    {
     "data": {
      "image/png": "[encoded data removed]",
      "text/plain": [
       "<matplotlib.figure.Figure at 0x11800c6a0>"
      ]
     },
     "metadata": {},
     "output_type": "display_data"
    }
   ],
   "source": [
    "sns.boxplot(x='gender', y='temperature', data = df)\n",
    "plt.show()"
   ]
  },
  {
   "cell_type": "markdown",
   "metadata": {},
   "source": [
    "From the swarm and box plots that the average female temperature looks higher than the male temperature. Hence they might not have the same temperature distribution."
   ]
  },
  {
   "cell_type": "code",
   "execution_count": 27,
   "metadata": {},
   "outputs": [
    {
     "name": "stdout",
     "output_type": "stream",
     "text": [
      "Average male body temperature is: 98.1046153846154 \n",
      "Average female body temperature is: 98.39384615384613 \n",
      "The group body temperature mean is: 98.24923076923078\n"
     ]
    }
   ],
   "source": [
    "gender_mean_temp = df.groupby('gender')['temperature'].mean()\n",
    "group_mean_temp = df.temperature.mean()\n",
    "print('Average male body temperature is:', gender_mean_temp[1], '\\nAverage female body temperature is:', gender_mean_temp[0],\\\n",
    "      '\\nThe group body temperature mean is:',group_mean_temp)\n",
    "      "
   ]
  },
  {
   "cell_type": "markdown",
   "metadata": {},
   "source": [
    "H0 : There is no difference in the gender mean body temperatures\n",
    " \n",
    " Ha : There is a difference in the gender body temperatures"
   ]
  },
  {
   "cell_type": "code",
   "execution_count": 72,
   "metadata": {},
   "outputs": [
    {
     "name": "stdout",
     "output_type": "stream",
     "text": [
      "The p-value is : 0.0096 < 0.05. We reject the null hypothesis \"H0 : There is no difference in the gender mean body temperatures\" and suggest the alternate \"Ha : There is a difference in the gender body temperatures\"\n",
      "\n",
      "The difference in means is: 0.2892307692307696\n"
     ]
    }
   ],
   "source": [
    "male_temp = df.temperature[df.gender=='M'].values\n",
    "female_temp = df.temperature[df.gender=='F'].values\n",
    "\n",
    "def diff_of_means(data1, data2):\n",
    "    \"\"\"To determine the difference of the means of two data sets (series)\"\"\"\n",
    "    mean_diff = np.mean(data1) - np.mean(data2)\n",
    "    return mean_diff \n",
    "\n",
    "def permutation_sample(data1, data2):\n",
    "    \"\"\"To permute or scramble two sets of data and divide the scrambled data into 2 equal data samples\"\"\"\n",
    "    data = np.concatenate((data1,data2))\n",
    "    permuted_data = np.random.permutation(data)\n",
    "    perm_smpl1 = permuted_data[:len(data1)]\n",
    "    perm_smpl2 = permuted_data[len(data1):]\n",
    "    \n",
    "    return perm_smpl1, perm_smpl2\n",
    "\n",
    "def draw_perm_replicate(data1, data2, func, size=1):\n",
    "    \"\"\" Uses the permutation_sample function to create defined \"size\" number of replicates based on the function \"func\". \"\"\"\n",
    "    perm_replicates = np.empty(size)\n",
    "    \n",
    "    for i in range(size):\n",
    "        perm_samp1, perm_samp2 = permutation_sample(data1,data2)\n",
    "        perm_replicates[i] = func(perm_samp1, perm_samp2)\n",
    "        \n",
    "        return perm_replicates\n",
    "\n",
    "# setting alpha\n",
    "\n",
    "alpha = 0.05\n",
    "    \n",
    "# mean body temperatures\n",
    "\n",
    "mean_bt = np.mean(df.temperature)\n",
    "\n",
    "# Observed difference of means\n",
    "\n",
    "Obs_diff_means = diff_of_means(female_temp, male_temp)\n",
    "\n",
    "# Generating shifted arrays to the combined mean body temperature assuming H0 is true\n",
    "\n",
    "male_temp_shifted = male_temp - np.mean(male_temp) + mean_bt\n",
    "female_temp_shifted = female_temp - np.mean(female_temp)+ mean_bt\n",
    "\n",
    "\n",
    "# Draw 10,000 bootstrap replicates for shifted arrays:\n",
    "\n",
    "bs_reps1 = draw_bs_rep(female_temp_shifted,np.mean, size=10000)\n",
    "bs_reps2 = draw_bs_rep(male_temp_shifted,np.mean, size=10000)\n",
    "\n",
    "# Replicates of difference of means\n",
    "\n",
    "bs_reps = bs_reps1-bs_reps2\n",
    "\n",
    "# Compute p-value\n",
    "\n",
    "pval_mndf = np.sum(bs_reps >= Obs_diff_means)/len(bs_reps)\n",
    "\n",
    "if pval_mndf < alpha :\n",
    "    print(f'The p-value is : {pval_mndf} < {alpha}. We reject the null hypothesis \"H0 : There is no difference in the gender mean body temperatures\" and suggest the alternate \"Ha : There is a difference in the gender body temperatures\"')\n",
    "    print( f'\\nThe difference in means is: {Obs_diff_means}')\n",
    "else:\n",
    "    print(f'The p-value is: {pval_mndf} > {alpha}.We fail to reject the null hypothesis H0. There is a likelihood that the mean gender body temperatures are equal')"
   ]
  },
  {
   "cell_type": "markdown",
   "metadata": {},
   "source": [
    "**Normal Body Temperatures**"
   ]
  },
  {
   "cell_type": "code",
   "execution_count": 82,
   "metadata": {},
   "outputs": [
    {
     "name": "stdout",
     "output_type": "stream",
     "text": [
      "We have 95% confidence that the male normal body temperatures lies are between 97.8662ºF and 97.9077ºF\n",
      "\n",
      "We have 95% confidence that the female normal body temperatures lies are between 98.1415ºF and 98.1785ºF\n",
      "\n",
      "This represents a difference in body temperature between female and male is 0.2754ºF\n"
     ]
    }
   ],
   "source": [
    "# draw bootstrap replicates\n",
    "\n",
    "male_bs_replicates = draw_bs_rep(male_temp,np.mean,10000)\n",
    "female_bs_replicates = draw_bs_rep(female_temp,np.mean,10000)\n",
    "\n",
    "m1,m2 = np.percentile(male_bs_replicates,[.25,.95])\n",
    "w1,w2 = np.percentile(female_bs_replicates,[.25,.95])\n",
    "\n",
    "print(f'We have 95% confidence that the male normal body temperatures lies are between {m1:.4f}ºF and {m2:.4f}ºF')\n",
    "print(f'\\nWe have 95% confidence that the female normal body temperatures lies are between {w1:.4f}ºF and {w2:.4f}ºF')\n",
    "print(f'\\nThis represents a difference in body temperature between female and male is {np.sqrt((w1-m1)**2):.4f}ºF')"
   ]
  },
  {
   "cell_type": "code",
   "execution_count": null,
   "metadata": {},
   "outputs": [],
   "source": []
  },
  {
   "cell_type": "code",
   "execution_count": null,
   "metadata": {},
   "outputs": [],
   "source": []
  }
 ],
 "metadata": {
  "kernelspec": {
   "display_name": "Python 3",
   "language": "python",
   "name": "python3"
  },
  "language_info": {
   "codemirror_mode": {
    "name": "ipython",
    "version": 3
   },
   "file_extension": ".py",
   "mimetype": "text/x-python",
   "name": "python",
   "nbconvert_exporter": "python",
   "pygments_lexer": "ipython3",
   "version": "3.6.4"
  }
 },
 "nbformat": 4,
 "nbformat_minor": 1
}
